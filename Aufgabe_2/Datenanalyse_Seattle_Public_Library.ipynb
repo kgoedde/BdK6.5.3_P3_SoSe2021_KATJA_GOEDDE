{
 "cells": [
  {
   "cell_type": "markdown",
   "metadata": {},
   "source": [
    "# Datenanalyse des \"Library Collection Inventory\" Datenset der Seattle Public Library \n",
    "## (+ kleinere zusätzliche Fragestellung anhand des 'Checkouts by Title' Datensets der Seattle Public Library)"
   ]
  },
  {
   "cell_type": "markdown",
   "metadata": {},
   "source": [
    "## Beschreibung des Datensets"
   ]
  },
  {
   "cell_type": "markdown",
   "metadata": {},
   "source": [
    "Für die Datenananlyse wurde das \"Library Collection Inventory\" Datenset der Seattle Public Library ausgewählt. Das Datenset enthält Daten zu allen physischen Objekten der Seattle Public Library. Es sind insgemsamt 13 Spalten vorhanden, welche unter anderem Informationen zu Titel, Autor, ISBN, Erscheinungsjahr, spezifische thematische Schlagwörter, welche für ein Objekt vergeben worden sind und Informationen über den Standort eines Objekts enthalten."
   ]
  },
  {
   "cell_type": "markdown",
   "metadata": {},
   "source": [
    "## Fragestellungen"
   ]
  },
  {
   "cell_type": "markdown",
   "metadata": {},
   "source": [
    "Es werden folgende Fragestellungen anhand des \"Library Collection Inventory\" Datensets untersucht: \n",
    "\n",
    "1) Wie viele Objekte „schweben“ zur Zeit der letzten Momentaufnahme?\n",
    "\n",
    "2) Wie viele Exemplare gibt es durchschnittlich von einem Medium?\n",
    "\n",
    "3) Wie viele Objekte gibt es zum Thema Computer Programming? \n",
    "   \n",
    "3.1) Erweiterung: Wie viele Objekte gibt es zu einem bestimmten Thema?\n",
    "\n",
    "3.2) Wie lauten die vollständigen Titel der Objekte für die ein übergebener String innerhalb der Subjects vorhanden ist?\n",
    "\n",
    "\n",
    "\n",
    "--\n",
    "\n",
    "Es wird folgende Fragestellung anhand des \"Checkouts by Title\" Datensets untersucht: \n",
    "\n",
    "4) Welches Buch wurde am häufigsten ausgeliehen? (+ Wie häufig wurde es ausgeliehen?)"
   ]
  },
  {
   "cell_type": "markdown",
   "metadata": {},
   "source": [
    "## Datenanalyse"
   ]
  },
  {
   "cell_type": "code",
   "execution_count": 6,
   "metadata": {},
   "outputs": [],
   "source": [
    "# Zunächst werden die Pakete \"pandas\", \"seaborn\" sowie \"matplotlib.pyplot\" importiert.\n",
    "import pandas as pd\n",
    "import seaborn as sns\n",
    "import matplotlib.pyplot as plt"
   ]
  },
  {
   "cell_type": "code",
   "execution_count": 7,
   "metadata": {},
   "outputs": [],
   "source": [
    "# Mithilfe von Pandas werden die Daten eingelesen.\n",
    "url = \"https://data.seattle.gov/resource/6vkj-f5xf.csv\"\n",
    "spl = pd.read_csv(url)"
   ]
  },
  {
   "cell_type": "code",
   "execution_count": 8,
   "metadata": {},
   "outputs": [
    {
     "data": {
      "text/html": [
       "<div>\n",
       "<style scoped>\n",
       "    .dataframe tbody tr th:only-of-type {\n",
       "        vertical-align: middle;\n",
       "    }\n",
       "\n",
       "    .dataframe tbody tr th {\n",
       "        vertical-align: top;\n",
       "    }\n",
       "\n",
       "    .dataframe thead th {\n",
       "        text-align: right;\n",
       "    }\n",
       "</style>\n",
       "<table border=\"1\" class=\"dataframe\">\n",
       "  <thead>\n",
       "    <tr style=\"text-align: right;\">\n",
       "      <th></th>\n",
       "      <th>bibnum</th>\n",
       "      <th>title</th>\n",
       "      <th>author</th>\n",
       "      <th>isbn</th>\n",
       "      <th>publicationyear</th>\n",
       "      <th>publisher</th>\n",
       "      <th>subjects</th>\n",
       "      <th>itemtype</th>\n",
       "      <th>itemcollection</th>\n",
       "      <th>floatingitem</th>\n",
       "      <th>itemlocation</th>\n",
       "      <th>reportdate</th>\n",
       "      <th>itemcount</th>\n",
       "    </tr>\n",
       "  </thead>\n",
       "  <tbody>\n",
       "    <tr>\n",
       "      <th>0</th>\n",
       "      <td>106278</td>\n",
       "      <td>The Sporting news' national football guide.</td>\n",
       "      <td>NaN</td>\n",
       "      <td>NaN</td>\n",
       "      <td>NaN</td>\n",
       "      <td>Sporting News.</td>\n",
       "      <td>Football United States History Periodicals</td>\n",
       "      <td>arbk</td>\n",
       "      <td>cs8r</td>\n",
       "      <td>NaN</td>\n",
       "      <td>cen</td>\n",
       "      <td>2017-09-01T00:00:00.000</td>\n",
       "      <td>1</td>\n",
       "    </tr>\n",
       "    <tr>\n",
       "      <th>1</th>\n",
       "      <td>442617</td>\n",
       "      <td>NaN</td>\n",
       "      <td>NaN</td>\n",
       "      <td>NaN</td>\n",
       "      <td>NaN</td>\n",
       "      <td>NaN</td>\n",
       "      <td>NaN</td>\n",
       "      <td>acmus</td>\n",
       "      <td>camus</td>\n",
       "      <td>NaN</td>\n",
       "      <td>cen</td>\n",
       "      <td>2017-09-01T00:00:00.000</td>\n",
       "      <td>1</td>\n",
       "    </tr>\n",
       "    <tr>\n",
       "      <th>2</th>\n",
       "      <td>2748722</td>\n",
       "      <td>You can get there from here : my journey from ...</td>\n",
       "      <td>Knowling, Bob</td>\n",
       "      <td>1591844223, 9781591844228</td>\n",
       "      <td>2011.</td>\n",
       "      <td>Portfolio/Penguin,</td>\n",
       "      <td>Knowling Bob, African American businesspeople ...</td>\n",
       "      <td>acbk</td>\n",
       "      <td>naaanf</td>\n",
       "      <td>NaN</td>\n",
       "      <td>dth</td>\n",
       "      <td>2017-09-01T00:00:00.000</td>\n",
       "      <td>1</td>\n",
       "    </tr>\n",
       "    <tr>\n",
       "      <th>3</th>\n",
       "      <td>2881800</td>\n",
       "      <td>Naomi [sound recording] / the Cave Singers.</td>\n",
       "      <td>Cave Singers</td>\n",
       "      <td>NaN</td>\n",
       "      <td>p2013.</td>\n",
       "      <td>Jagjaguwar,</td>\n",
       "      <td>Popular music 2011 2020, Rock music 2011 2020</td>\n",
       "      <td>accd</td>\n",
       "      <td>naover</td>\n",
       "      <td>NaN</td>\n",
       "      <td>gwd</td>\n",
       "      <td>2017-09-01T00:00:00.000</td>\n",
       "      <td>1</td>\n",
       "    </tr>\n",
       "    <tr>\n",
       "      <th>4</th>\n",
       "      <td>3181907</td>\n",
       "      <td>Bilgewater / Jane Gardam.</td>\n",
       "      <td>Gardam, Jane</td>\n",
       "      <td>160945331X, 9781609453312</td>\n",
       "      <td>2016.</td>\n",
       "      <td>Europa Editions,</td>\n",
       "      <td>Teenage girls Fiction, Teenagers Fiction, Boar...</td>\n",
       "      <td>acbk</td>\n",
       "      <td>nafic</td>\n",
       "      <td>NaN</td>\n",
       "      <td>qna</td>\n",
       "      <td>2017-09-01T00:00:00.000</td>\n",
       "      <td>1</td>\n",
       "    </tr>\n",
       "    <tr>\n",
       "      <th>...</th>\n",
       "      <td>...</td>\n",
       "      <td>...</td>\n",
       "      <td>...</td>\n",
       "      <td>...</td>\n",
       "      <td>...</td>\n",
       "      <td>...</td>\n",
       "      <td>...</td>\n",
       "      <td>...</td>\n",
       "      <td>...</td>\n",
       "      <td>...</td>\n",
       "      <td>...</td>\n",
       "      <td>...</td>\n",
       "      <td>...</td>\n",
       "    </tr>\n",
       "    <tr>\n",
       "      <th>995</th>\n",
       "      <td>2035646</td>\n",
       "      <td>Friedrich Hayek : a biography / Alan Ebenstein.</td>\n",
       "      <td>Ebenstein, Alan O.</td>\n",
       "      <td>0312233442</td>\n",
       "      <td>2001.</td>\n",
       "      <td>St. Martin's Press,</td>\n",
       "      <td>Hayek Friedrich A von Friedrich August 1899 19...</td>\n",
       "      <td>acbk</td>\n",
       "      <td>canf</td>\n",
       "      <td>NaN</td>\n",
       "      <td>cen</td>\n",
       "      <td>2017-09-01T00:00:00.000</td>\n",
       "      <td>1</td>\n",
       "    </tr>\n",
       "    <tr>\n",
       "      <th>996</th>\n",
       "      <td>3181802</td>\n",
       "      <td>The young Messiah [videorecording] / Focus Fea...</td>\n",
       "      <td>NaN</td>\n",
       "      <td>NaN</td>\n",
       "      <td>2016.</td>\n",
       "      <td>Universal Pictures Home Entertainment,</td>\n",
       "      <td>Jesus Christ Drama, Feature films, Religious f...</td>\n",
       "      <td>acdvd</td>\n",
       "      <td>nadvd</td>\n",
       "      <td>Floating</td>\n",
       "      <td>dlr</td>\n",
       "      <td>2017-09-01T00:00:00.000</td>\n",
       "      <td>2</td>\n",
       "    </tr>\n",
       "    <tr>\n",
       "      <th>997</th>\n",
       "      <td>3042073</td>\n",
       "      <td>In the company of Sherlock Holmes : stories in...</td>\n",
       "      <td>NaN</td>\n",
       "      <td>1605986585, 9781605986586</td>\n",
       "      <td>2014.</td>\n",
       "      <td>Pegasus Crime,</td>\n",
       "      <td>Holmes Sherlock Fiction, Watson John H Fictiti...</td>\n",
       "      <td>acbk</td>\n",
       "      <td>namys</td>\n",
       "      <td>Floating</td>\n",
       "      <td>mon</td>\n",
       "      <td>2017-09-01T00:00:00.000</td>\n",
       "      <td>1</td>\n",
       "    </tr>\n",
       "    <tr>\n",
       "      <th>998</th>\n",
       "      <td>2959621</td>\n",
       "      <td>The food parade : healthy eating with the nutr...</td>\n",
       "      <td>Castaldi, Elicia</td>\n",
       "      <td>0805091769, 9780805091762</td>\n",
       "      <td>2013.</td>\n",
       "      <td>Christy Ottaviano Books, Henry Holt and Company,</td>\n",
       "      <td>Diet Juvenile fiction, Children Nutrition Juve...</td>\n",
       "      <td>jcbk</td>\n",
       "      <td>ncnf</td>\n",
       "      <td>NaN</td>\n",
       "      <td>dth</td>\n",
       "      <td>2017-09-01T00:00:00.000</td>\n",
       "      <td>1</td>\n",
       "    </tr>\n",
       "    <tr>\n",
       "      <th>999</th>\n",
       "      <td>3079880</td>\n",
       "      <td>House rivals / Mike Lawson.</td>\n",
       "      <td>Lawson, Michael, 1948-</td>\n",
       "      <td>0802123600, 9780802123602</td>\n",
       "      <td>[2015]</td>\n",
       "      <td>Atlantic Monthly Press,</td>\n",
       "      <td>DeMarco Joe Fictitious character Fiction, Gove...</td>\n",
       "      <td>acbk</td>\n",
       "      <td>nafic</td>\n",
       "      <td>NaN</td>\n",
       "      <td>uni</td>\n",
       "      <td>2017-09-01T00:00:00.000</td>\n",
       "      <td>1</td>\n",
       "    </tr>\n",
       "  </tbody>\n",
       "</table>\n",
       "<p>1000 rows × 13 columns</p>\n",
       "</div>"
      ],
      "text/plain": [
       "      bibnum                                              title  \\\n",
       "0     106278        The Sporting news' national football guide.   \n",
       "1     442617                                                NaN   \n",
       "2    2748722  You can get there from here : my journey from ...   \n",
       "3    2881800        Naomi [sound recording] / the Cave Singers.   \n",
       "4    3181907                          Bilgewater / Jane Gardam.   \n",
       "..       ...                                                ...   \n",
       "995  2035646    Friedrich Hayek : a biography / Alan Ebenstein.   \n",
       "996  3181802  The young Messiah [videorecording] / Focus Fea...   \n",
       "997  3042073  In the company of Sherlock Holmes : stories in...   \n",
       "998  2959621  The food parade : healthy eating with the nutr...   \n",
       "999  3079880                        House rivals / Mike Lawson.   \n",
       "\n",
       "                     author                       isbn publicationyear  \\\n",
       "0                       NaN                        NaN             NaN   \n",
       "1                       NaN                        NaN             NaN   \n",
       "2             Knowling, Bob  1591844223, 9781591844228           2011.   \n",
       "3              Cave Singers                        NaN          p2013.   \n",
       "4              Gardam, Jane  160945331X, 9781609453312           2016.   \n",
       "..                      ...                        ...             ...   \n",
       "995      Ebenstein, Alan O.                 0312233442           2001.   \n",
       "996                     NaN                        NaN           2016.   \n",
       "997                     NaN  1605986585, 9781605986586           2014.   \n",
       "998        Castaldi, Elicia  0805091769, 9780805091762           2013.   \n",
       "999  Lawson, Michael, 1948-  0802123600, 9780802123602          [2015]   \n",
       "\n",
       "                                            publisher  \\\n",
       "0                                      Sporting News.   \n",
       "1                                                 NaN   \n",
       "2                                  Portfolio/Penguin,   \n",
       "3                                         Jagjaguwar,   \n",
       "4                                    Europa Editions,   \n",
       "..                                                ...   \n",
       "995                               St. Martin's Press,   \n",
       "996            Universal Pictures Home Entertainment,   \n",
       "997                                    Pegasus Crime,   \n",
       "998  Christy Ottaviano Books, Henry Holt and Company,   \n",
       "999                           Atlantic Monthly Press,   \n",
       "\n",
       "                                              subjects itemtype  \\\n",
       "0           Football United States History Periodicals     arbk   \n",
       "1                                                  NaN    acmus   \n",
       "2    Knowling Bob, African American businesspeople ...     acbk   \n",
       "3        Popular music 2011 2020, Rock music 2011 2020     accd   \n",
       "4    Teenage girls Fiction, Teenagers Fiction, Boar...     acbk   \n",
       "..                                                 ...      ...   \n",
       "995  Hayek Friedrich A von Friedrich August 1899 19...     acbk   \n",
       "996  Jesus Christ Drama, Feature films, Religious f...    acdvd   \n",
       "997  Holmes Sherlock Fiction, Watson John H Fictiti...     acbk   \n",
       "998  Diet Juvenile fiction, Children Nutrition Juve...     jcbk   \n",
       "999  DeMarco Joe Fictitious character Fiction, Gove...     acbk   \n",
       "\n",
       "    itemcollection floatingitem itemlocation               reportdate  \\\n",
       "0             cs8r          NaN          cen  2017-09-01T00:00:00.000   \n",
       "1            camus          NaN          cen  2017-09-01T00:00:00.000   \n",
       "2           naaanf          NaN          dth  2017-09-01T00:00:00.000   \n",
       "3           naover          NaN          gwd  2017-09-01T00:00:00.000   \n",
       "4            nafic          NaN          qna  2017-09-01T00:00:00.000   \n",
       "..             ...          ...          ...                      ...   \n",
       "995           canf          NaN          cen  2017-09-01T00:00:00.000   \n",
       "996          nadvd     Floating          dlr  2017-09-01T00:00:00.000   \n",
       "997          namys     Floating          mon  2017-09-01T00:00:00.000   \n",
       "998           ncnf          NaN          dth  2017-09-01T00:00:00.000   \n",
       "999          nafic          NaN          uni  2017-09-01T00:00:00.000   \n",
       "\n",
       "     itemcount  \n",
       "0            1  \n",
       "1            1  \n",
       "2            1  \n",
       "3            1  \n",
       "4            1  \n",
       "..         ...  \n",
       "995          1  \n",
       "996          2  \n",
       "997          1  \n",
       "998          1  \n",
       "999          1  \n",
       "\n",
       "[1000 rows x 13 columns]"
      ]
     },
     "execution_count": 8,
     "metadata": {},
     "output_type": "execute_result"
    }
   ],
   "source": [
    "spl"
   ]
  },
  {
   "cell_type": "markdown",
   "metadata": {},
   "source": [
    "Das Datenset wurde nicht vollständig importiert. Das originale Datenset enthält 66,2 Millionen Zeilen. Im Folgenden werden alle Fragestellungen nur für die vorliegenden 1000 Zeilen betrachtet."
   ]
  },
  {
   "cell_type": "markdown",
   "metadata": {},
   "source": [
    "## Fragestellung 1\n",
    "#### Wie viele Objekte „schweben“ zur Zeit der letzten Momentaufnahme?"
   ]
  },
  {
   "cell_type": "code",
   "execution_count": 11,
   "metadata": {},
   "outputs": [
    {
     "data": {
      "text/plain": [
       "0           NaN\n",
       "1           NaN\n",
       "2           NaN\n",
       "3           NaN\n",
       "4           NaN\n",
       "         ...   \n",
       "995         NaN\n",
       "996    Floating\n",
       "997    Floating\n",
       "998         NaN\n",
       "999         NaN\n",
       "Name: floatingitem, Length: 1000, dtype: object"
      ]
     },
     "execution_count": 11,
     "metadata": {},
     "output_type": "execute_result"
    }
   ],
   "source": [
    "spl[\"floatingitem\"]"
   ]
  },
  {
   "cell_type": "code",
   "execution_count": 12,
   "metadata": {},
   "outputs": [
    {
     "data": {
      "text/plain": [
       "count          145\n",
       "unique           1\n",
       "top       Floating\n",
       "freq           145\n",
       "Name: floatingitem, dtype: object"
      ]
     },
     "execution_count": 12,
     "metadata": {},
     "output_type": "execute_result"
    }
   ],
   "source": [
    "spl.floatingitem.describe()"
   ]
  },
  {
   "cell_type": "markdown",
   "metadata": {},
   "source": [
    "Die Variable \"floatingitem\" hat den Wert \"Floating\", wenn das Objekt sich aktuell im bewegten Zustand befindet (wenn es also aktuell keinen festen Standort besitzt). Ansonsten ist die Variable leer (\"NaN\"). Mithilfe der Funktion \"describe()\" konnte herausgefunden werden, dass 145 der 1000 Objekte sich im Status \"Floating\" befinden. "
   ]
  },
  {
   "cell_type": "markdown",
   "metadata": {},
   "source": [
    "## Fragestellung 2\n",
    "#### Wie viele Exemplare gibt es durchschnittlich von einem Medium?"
   ]
  },
  {
   "cell_type": "markdown",
   "metadata": {},
   "source": [
    "Um diese Frage zu beantworten, ist die Spalte ItemCount relevant, in welcher die Anzahl der Objekte in der jeweiligen Sammlung oder Kollektion angegeben ist. "
   ]
  },
  {
   "cell_type": "code",
   "execution_count": 91,
   "metadata": {},
   "outputs": [
    {
     "data": {
      "text/plain": [
       "count    1000.000000\n",
       "mean        1.221000\n",
       "std         2.269209\n",
       "min         1.000000\n",
       "25%         1.000000\n",
       "50%         1.000000\n",
       "75%         1.000000\n",
       "max        71.000000\n",
       "Name: itemcount, dtype: float64"
      ]
     },
     "execution_count": 91,
     "metadata": {},
     "output_type": "execute_result"
    }
   ],
   "source": [
    "spl.itemcount.describe()"
   ]
  },
  {
   "cell_type": "markdown",
   "metadata": {},
   "source": [
    "Die 1000 betrachteten Objekte sind im Durchschnitt (arithmetisches Mittel) 1,22-Mal vorhanden. Es gibt einen Ausreißer, welcher 71x vorhanden ist. "
   ]
  },
  {
   "cell_type": "markdown",
   "metadata": {},
   "source": [
    "## Fragestellung 3\n",
    "#### Wie viele physische Objekte gibt es zum Thema Computer Programming? "
   ]
  },
  {
   "cell_type": "code",
   "execution_count": 13,
   "metadata": {},
   "outputs": [
    {
     "data": {
      "text/plain": [
       "0             Football United States History Periodicals\n",
       "1                                                    NaN\n",
       "2      Knowling Bob, African American businesspeople ...\n",
       "3          Popular music 2011 2020, Rock music 2011 2020\n",
       "4      Teenage girls Fiction, Teenagers Fiction, Boar...\n",
       "                             ...                        \n",
       "995    Hayek Friedrich A von Friedrich August 1899 19...\n",
       "996    Jesus Christ Drama, Feature films, Religious f...\n",
       "997    Holmes Sherlock Fiction, Watson John H Fictiti...\n",
       "998    Diet Juvenile fiction, Children Nutrition Juve...\n",
       "999    DeMarco Joe Fictitious character Fiction, Gove...\n",
       "Name: subjects, Length: 1000, dtype: object"
      ]
     },
     "execution_count": 13,
     "metadata": {},
     "output_type": "execute_result"
    }
   ],
   "source": [
    "spl[\"subjects\"]"
   ]
  },
  {
   "cell_type": "code",
   "execution_count": 14,
   "metadata": {},
   "outputs": [
    {
     "data": {
      "text/plain": [
       "count                      951\n",
       "unique                     927\n",
       "top       Rock music 2011 2020\n",
       "freq                         7\n",
       "Name: subjects, dtype: object"
      ]
     },
     "execution_count": 14,
     "metadata": {},
     "output_type": "execute_result"
    }
   ],
   "source": [
    "spl.subjects.describe()"
   ]
  },
  {
   "cell_type": "markdown",
   "metadata": {},
   "source": [
    "Innerhalb der 1000 Objekte sind für 951 Daten innerhalb der Variable Subjects hinterlegt. Wie zu erwarten handelt es sich größtenteils um unterschiedliche Inhalte. Der Inhalt/das Thema das am häufigsten vorkommt (7-mal) ist \"Rock music 2011 2020\".\n",
    "Im Folgenden soll untersucht werden, wie viele Werke der 1000 untersuchten Objekte das Thema \"Computer Programming\" behandeln."
   ]
  },
  {
   "cell_type": "markdown",
   "metadata": {},
   "source": [
    "Dazu soll eine for-Schleife implementiert werden, die den gesamten Datensatz durchläuft und für jede Zeile untersucht, ob der String \"Computer Programming\" im Feld subjects vorhanden ist. \n",
    "Um zu überprüfen, ob der String \"Computer Programming\" in subjects vorhanden ist, soll die Methode \"__contains__\" verwendet werden."
   ]
  },
  {
   "cell_type": "markdown",
   "metadata": {},
   "source": [
    "#### Testen der Methode contains"
   ]
  },
  {
   "cell_type": "code",
   "execution_count": 15,
   "metadata": {},
   "outputs": [
    {
     "data": {
      "text/plain": [
       "'Football United States History Periodicals'"
      ]
     },
     "execution_count": 15,
     "metadata": {},
     "output_type": "execute_result"
    }
   ],
   "source": [
    "spl.subjects[0]"
   ]
  },
  {
   "cell_type": "code",
   "execution_count": 16,
   "metadata": {},
   "outputs": [
    {
     "data": {
      "text/plain": [
       "True"
      ]
     },
     "execution_count": 16,
     "metadata": {},
     "output_type": "execute_result"
    }
   ],
   "source": [
    "spl.subjects[0].__contains__(\"Football\")"
   ]
  },
  {
   "cell_type": "code",
   "execution_count": 17,
   "metadata": {},
   "outputs": [
    {
     "data": {
      "text/plain": [
       "False"
      ]
     },
     "execution_count": 17,
     "metadata": {},
     "output_type": "execute_result"
    }
   ],
   "source": [
    "spl.subjects[0].__contains__(\"Computer Programming\")"
   ]
  },
  {
   "cell_type": "markdown",
   "metadata": {},
   "source": [
    "Die Methode contains gibt einen Wahrheitswert zurück. Wenn der übergebene String im zu untersuchenden String enthalten ist, wird True zurückgegeben, ist dies nicht der Fall wird False zurückgegeben. "
   ]
  },
  {
   "cell_type": "code",
   "execution_count": 18,
   "metadata": {},
   "outputs": [
    {
     "ename": "AttributeError",
     "evalue": "'float' object has no attribute '__contains__'",
     "output_type": "error",
     "traceback": [
      "\u001b[1;31m---------------------------------------------------------------------------\u001b[0m",
      "\u001b[1;31mAttributeError\u001b[0m                            Traceback (most recent call last)",
      "\u001b[1;32m<ipython-input-18-727718b0969b>\u001b[0m in \u001b[0;36m<module>\u001b[1;34m\u001b[0m\n\u001b[1;32m----> 1\u001b[1;33m \u001b[0mspl\u001b[0m\u001b[1;33m.\u001b[0m\u001b[0msubjects\u001b[0m\u001b[1;33m[\u001b[0m\u001b[1;36m1\u001b[0m\u001b[1;33m]\u001b[0m\u001b[1;33m.\u001b[0m\u001b[0m__contains__\u001b[0m\u001b[1;33m(\u001b[0m\u001b[1;34m\"Computer Programming\"\u001b[0m\u001b[1;33m)\u001b[0m\u001b[1;33m\u001b[0m\u001b[1;33m\u001b[0m\u001b[0m\n\u001b[0m",
      "\u001b[1;31mAttributeError\u001b[0m: 'float' object has no attribute '__contains__'"
     ]
    }
   ],
   "source": [
    "spl.subjects[1].__contains__(\"Computer Programming\")"
   ]
  },
  {
   "cell_type": "markdown",
   "metadata": {},
   "source": [
    "In der zweiten Zeile des Datensatzes befindet sich ein Eintrag, für den kein Subject hinterlegt ist. Auf diese \"leeren Einträge\" kann die Funktion \"contains\" nicht angewendet werden. "
   ]
  },
  {
   "cell_type": "code",
   "execution_count": 30,
   "metadata": {},
   "outputs": [
    {
     "data": {
      "text/plain": [
       "str"
      ]
     },
     "execution_count": 30,
     "metadata": {},
     "output_type": "execute_result"
    }
   ],
   "source": [
    "type(subjects[0])"
   ]
  },
  {
   "cell_type": "code",
   "execution_count": 31,
   "metadata": {},
   "outputs": [
    {
     "data": {
      "text/plain": [
       "float"
      ]
     },
     "execution_count": 31,
     "metadata": {},
     "output_type": "execute_result"
    }
   ],
   "source": [
    "type(subjects[1])"
   ]
  },
  {
   "cell_type": "markdown",
   "metadata": {},
   "source": [
    "Mithilfe der Methode type konnte herausgefunden werden, dass die Objekte, in denen unter subjects Daten hinterlegt sind, vom Typ String sind, während Objekte, bei denen kein Subject vorhanden ist, vom Typ float sind. "
   ]
  },
  {
   "cell_type": "code",
   "execution_count": 65,
   "metadata": {},
   "outputs": [
    {
     "data": {
      "text/plain": [
       "str"
      ]
     },
     "execution_count": 65,
     "metadata": {},
     "output_type": "execute_result"
    }
   ],
   "source": [
    "# Mithilfe der Methode str() kann der Typ float in den Typ String umgewandelt werden.\n",
    "type(str(subjects[1]))"
   ]
  },
  {
   "cell_type": "code",
   "execution_count": 33,
   "metadata": {},
   "outputs": [
    {
     "data": {
      "text/plain": [
       "False"
      ]
     },
     "execution_count": 33,
     "metadata": {},
     "output_type": "execute_result"
    }
   ],
   "source": [
    "str(subjects[1]).__contains__(\"Football\")"
   ]
  },
  {
   "cell_type": "code",
   "execution_count": 34,
   "metadata": {},
   "outputs": [
    {
     "data": {
      "text/plain": [
       "True"
      ]
     },
     "execution_count": 34,
     "metadata": {},
     "output_type": "execute_result"
    }
   ],
   "source": [
    "str(subjects[1]).__contains__(\"nan\")"
   ]
  },
  {
   "cell_type": "markdown",
   "metadata": {},
   "source": [
    "Mithilfe der Methode str() kann die Methode contains nun auch auf die Objekte angewendet werden, für die keine Daten im Feld subjects hinterlegt sind."
   ]
  },
  {
   "cell_type": "code",
   "execution_count": 66,
   "metadata": {},
   "outputs": [],
   "source": [
    "# Um mit den subjects arbeiten zu können, müssen diese außerdem in ein Dictionary umgewandelt werden.\n",
    "# In der Variable Subjects wird der Inhalt der Spalte subjects aus dem Ausgangsdatensatz als Dictionary abgelegt.\n",
    "subjects = dict(spl.subjects)"
   ]
  },
  {
   "cell_type": "code",
   "execution_count": 25,
   "metadata": {},
   "outputs": [
    {
     "name": "stdout",
     "output_type": "stream",
     "text": [
      "Football United States History Periodicals\n",
      "nan\n",
      "Knowling Bob, African American businesspeople Biography, Success in business\n",
      "Popular music 2011 2020, Rock music 2011 2020\n",
      "Teenage girls Fiction, Teenagers Fiction, Boarding schools Fiction, Identity Psychology Fiction, England Fiction, Bildungsromans\n",
      "nan\n",
      "nan\n",
      "United States Federal Bureau of Investigation Drama, FBI Academy Behavioral Science Unit Drama, Criminal investigation Drama, Criminal behavior Prediction of Drama, Criminal profilers Drama, Television series, Fiction television programs, Television cop shows, Thrillers Television programs, Video recordings for the hearing impaired\n",
      "Cosby Bill 1937, Comedians United States Biography\n",
      "Aliksandrina Library History Juvenile literature, Libraries Egypt Alexandria Juvenile literature, Libraries Destruction and pillage Egypt Alexandria Juvenile literature, Cultural property Protection Juvenile literature, Egypt History 21st century Juvenile literature, Aliksandrina Library Juvenile literature, Cultural property Juvenile literature, Egypt History Juvenile literature\n"
     ]
    }
   ],
   "source": [
    "# Ausgabe des Dictionary subjects. Der Übersichtlichkeit halber werden nur die ersten 10 Zeilen ausgegeben.\n",
    "for i in subjects:\n",
    "    print(subjects[i])\n",
    "    if i >=9:\n",
    "        break"
   ]
  },
  {
   "cell_type": "markdown",
   "metadata": {},
   "source": [
    "### for-Schleife"
   ]
  },
  {
   "cell_type": "code",
   "execution_count": 26,
   "metadata": {},
   "outputs": [
    {
     "name": "stdout",
     "output_type": "stream",
     "text": [
      "0\n"
     ]
    }
   ],
   "source": [
    "# Es wird eine leere Liste namens ergebnis_computer_programming erzeugt. \n",
    "ergebnis_computer_programming = []\n",
    "\n",
    "# Die for-Schleife durchläuft das Dictionary subjects. Wenn der String \"Computer Programming\" in einer Zeile enthalten ist, \n",
    "# wird dies in der Ergebnisliste gespeichert. Die Länge der Ergebnisliste wird ausgegeben.\n",
    "for i in subjects:\n",
    "    if str(subjects[i]).__contains__(\"Computer Programming\"):\n",
    "        ergebnis_computer_programming.append(i)\n",
    "print(len(ergebnis_computer_programming))"
   ]
  },
  {
   "cell_type": "markdown",
   "metadata": {},
   "source": [
    "In der Liste sind keine Elemente enthalten. In dem Beispieldatensatz gibt es also kein Werk, welches mit dem Subject \"Computer Programming\" gekennzeichnet ist. Ich starte nochmal einen neuen Versuch mit dem String \"Football\". "
   ]
  },
  {
   "cell_type": "code",
   "execution_count": 27,
   "metadata": {},
   "outputs": [
    {
     "name": "stdout",
     "output_type": "stream",
     "text": [
      "2\n"
     ]
    }
   ],
   "source": [
    "ergebnis_football = []\n",
    "\n",
    "for i in subjects:\n",
    "    if str(subjects[i]).__contains__(\"Football\"):\n",
    "        ergebnis_computer_programming.append(i)\n",
    "print(len(ergebnis_computer_programming))"
   ]
  },
  {
   "cell_type": "markdown",
   "metadata": {},
   "source": [
    "Zwei der 1000 betrachteten Datensätze enthalten das Thema \"Football\" innerhalb der Kategorie subjects. Die zu Beginn formulierte Fragestellung ist somit beantwortet. Im Folgenden soll noch eine Funktion implementiert werden, an die ein beliebiger String übergeben werden kann und die dann überprüft in wie vielen der hier betrachteten Datensätze dieser String enthalten ist. "
   ]
  },
  {
   "cell_type": "markdown",
   "metadata": {},
   "source": [
    "### Fragestellung 3.1: Wie viele Objekte gibt es zu einem bestimmten Thema?"
   ]
  },
  {
   "cell_type": "code",
   "execution_count": 67,
   "metadata": {},
   "outputs": [],
   "source": [
    "# Im Folgenden wird die Funktion how_many_books_concerning implementiert, welche angibt, wie viele physische Objekte \n",
    "# den übergebenen String in der Spalte \"Subjects\" enthalten. Diese Funktion soll so in etwas widergeben, \n",
    "# wie viele Objekte zu einem bestimmten Thema vorhanden sind. \n",
    "def how_many_books_concerning(subject):\n",
    "    ergebnis = []\n",
    "    for i in subjects:\n",
    "        if str(subjects[i]).__contains__(subject):\n",
    "            ergebnis.append(i)\n",
    "    print(len(ergebnis))"
   ]
  },
  {
   "cell_type": "code",
   "execution_count": 68,
   "metadata": {},
   "outputs": [
    {
     "name": "stdout",
     "output_type": "stream",
     "text": [
      "2\n"
     ]
    }
   ],
   "source": [
    "how_many_books_concerning(\"Football\")"
   ]
  },
  {
   "cell_type": "code",
   "execution_count": 69,
   "metadata": {},
   "outputs": [
    {
     "name": "stdout",
     "output_type": "stream",
     "text": [
      "0\n"
     ]
    }
   ],
   "source": [
    "how_many_books_concerning(\"Computer Programming\")"
   ]
  },
  {
   "cell_type": "code",
   "execution_count": 70,
   "metadata": {},
   "outputs": [
    {
     "name": "stdout",
     "output_type": "stream",
     "text": [
      "2\n"
     ]
    }
   ],
   "source": [
    "how_many_books_concerning(\"Computer\")"
   ]
  },
  {
   "cell_type": "code",
   "execution_count": 73,
   "metadata": {},
   "outputs": [
    {
     "name": "stdout",
     "output_type": "stream",
     "text": [
      "27\n"
     ]
    }
   ],
   "source": [
    "how_many_books_concerning(\"Rock music\")"
   ]
  },
  {
   "cell_type": "markdown",
   "metadata": {},
   "source": [
    "Nun kann für jeden beliebigen String ausgegeben werden, wie viele physische Objekte den übergebenen String in der Spalte Subjects enthalten (hier leider nur beispielthaft für den verwendeten Datensatz mit 1000 Zeilen). Dabei muss beachtet werden, dass die Groß- und Kleinschreibung eine Rolle spielt. "
   ]
  },
  {
   "cell_type": "markdown",
   "metadata": {},
   "source": [
    "### Fragestellung 3.2 \n",
    "#### Wie lauten die vollständigen Titel der Objekte für die ein übergebener String innerhalb der Subjects vorhanden ist?\n",
    "Aufbauend auf der zuvor implementierten Funktion in 2.1 soll nun eine Funktion implementiert werden, die die Titel derjenigen Objekte ausgibt, für die ein übergebener String innerhalb der Kategorie Subjects vorhanden ist."
   ]
  },
  {
   "cell_type": "code",
   "execution_count": 76,
   "metadata": {},
   "outputs": [],
   "source": [
    "def full_title(subject):\n",
    "    for i in subjects:\n",
    "        if str(subjects[i]).__contains__(subject):\n",
    "            print(spl.title[i])"
   ]
  },
  {
   "cell_type": "code",
   "execution_count": 77,
   "metadata": {},
   "outputs": [
    {
     "name": "stdout",
     "output_type": "stream",
     "text": [
      "The Sporting news' national football guide.\n",
      "The football fanbook / Gary Gramling ; design by Beth Bugler.\n"
     ]
    }
   ],
   "source": [
    "full_title(\"Football\")"
   ]
  },
  {
   "cell_type": "code",
   "execution_count": 79,
   "metadata": {},
   "outputs": [
    {
     "name": "stdout",
     "output_type": "stream",
     "text": [
      "Microsoft Outlook 2016 step by step / Joan Lambert.\n",
      "Eleanor Oliphant is completely fine / Gail Honeyman.\n"
     ]
    }
   ],
   "source": [
    "full_title(\"Computer\")"
   ]
  },
  {
   "cell_type": "code",
   "execution_count": 80,
   "metadata": {},
   "outputs": [
    {
     "name": "stdout",
     "output_type": "stream",
     "text": [
      "Naomi [sound recording] / the Cave Singers.\n",
      "Morrison Hotel [sound recording] / the Doors.\n",
      "This nation's saving grace [sound recording] / the Fall.\n",
      "Preliminaires [sound recording] / Iggy Pop.\n",
      "Trace [sound recording] / Son Volt.\n",
      "The wonder of you / Elvis with the Royal Philharmonic Orchestra.\n",
      "Hesitant alien [sound recording] / Gerard Way.\n",
      "Life turns electric [sound recording] / Finger Eleven.\n",
      "Clear lake forest [sound recording] / the Black Angels.\n",
      "The Helio Sequence [sound recording].\n",
      "No Seattle [sound recording] : forgotten sounds of the North-west grunge era 1986-97.\n",
      "Adore life / Savages.\n",
      "I'm a believer : my life of Monkees, music, and madness / Micky Dolenz and Mark Bego.\n",
      "Now that's what I call music! 40 [sound recording].\n",
      "All access : the rock 'n' roll photography of Ken Regan / by Ken Regan with Jim Jerome ; preface by Keith Richards ; introduction by Mick Jagger ; afterword by James Taylor.\n",
      "Jet plane and oxbow / Shearwater.\n",
      "Rad times xpress IV [sound recording] / Black Bananas.\n",
      "We're only in it for the money / Zappa/Mothers of Invention.\n",
      "It's too late to stop now -- / Van Morrison.\n",
      "B'lieve I'm goin down [sound recording] / Kurt Vile.\n",
      "Drawing down the moon [sound recording] / Azure Ray.\n",
      "Beyond the bloodhounds / Adia Victoria.\n",
      "Croz [sound recording].\n",
      "50 song memoir / the Magnetic Fields.\n",
      "Moth / Chairlift.\n",
      "Dethalbum II [sound recording] / Dethklok.\n",
      "Icepond / Sunset Valley.\n"
     ]
    }
   ],
   "source": [
    "full_title(\"Rock music\")"
   ]
  },
  {
   "cell_type": "markdown",
   "metadata": {},
   "source": [
    "Die Funktion full_title wurde erfolgreich implementiert. Nun kann eine Liste von Titeln ausgegeben werden, für die ein übergebener String innerhalb der Kategorie Subjects enthalten ist. "
   ]
  },
  {
   "cell_type": "markdown",
   "metadata": {},
   "source": [
    "# Hinzufügen des Datensets 'Checkout by Title'\n",
    "## Fragestellung 4: Welches Buch wurde am häufigsten ausgeliehen?"
   ]
  },
  {
   "cell_type": "markdown",
   "metadata": {},
   "source": [
    "Im Folgenden interessiert mich die Fragestellung, welches Buch am häufigsten ausgeliehen worden ist. Um diese Fragestellung beantworten zu können, importiere ich zusätzlich zum Library Collection Inventory Datenset der Seattle Public Library das Checkouts by Title Set der Seattle Public Library. \n",
    "Dieses Datenset enthält die monatlichen Ausleihen nach Titel für physische und elektronische Medien. Das Datenset enthält insgesamt 11 Spalten. Neben bibliographischen Daten wie Titel, Autor oder Verleger ist unter anderem in der Spalte checkouts angegeben, wie oft ein Objekt innerhalb des aktuellen checkoutmonth ausgeliehen worden ist."
   ]
  },
  {
   "cell_type": "code",
   "execution_count": 57,
   "metadata": {},
   "outputs": [],
   "source": [
    "# Import des Datensets 'Checkout by Title'\n",
    "url_title = \"https://data.seattle.gov/resource/tmmm-ytt6.csv\"\n",
    "spl_title = pd.read_csv(url_title)"
   ]
  },
  {
   "cell_type": "code",
   "execution_count": 58,
   "metadata": {},
   "outputs": [
    {
     "data": {
      "text/html": [
       "<div>\n",
       "<style scoped>\n",
       "    .dataframe tbody tr th:only-of-type {\n",
       "        vertical-align: middle;\n",
       "    }\n",
       "\n",
       "    .dataframe tbody tr th {\n",
       "        vertical-align: top;\n",
       "    }\n",
       "\n",
       "    .dataframe thead th {\n",
       "        text-align: right;\n",
       "    }\n",
       "</style>\n",
       "<table border=\"1\" class=\"dataframe\">\n",
       "  <thead>\n",
       "    <tr style=\"text-align: right;\">\n",
       "      <th></th>\n",
       "      <th>usageclass</th>\n",
       "      <th>checkouttype</th>\n",
       "      <th>materialtype</th>\n",
       "      <th>checkoutyear</th>\n",
       "      <th>checkoutmonth</th>\n",
       "      <th>checkouts</th>\n",
       "      <th>title</th>\n",
       "      <th>creator</th>\n",
       "      <th>subjects</th>\n",
       "      <th>publisher</th>\n",
       "      <th>publicationyear</th>\n",
       "    </tr>\n",
       "  </thead>\n",
       "  <tbody>\n",
       "    <tr>\n",
       "      <th>0</th>\n",
       "      <td>Physical</td>\n",
       "      <td>Horizon</td>\n",
       "      <td>BOOK</td>\n",
       "      <td>2012</td>\n",
       "      <td>2</td>\n",
       "      <td>2</td>\n",
       "      <td>Code Geass : Lelouch of the rebellion. [8] / b...</td>\n",
       "      <td>Majiko, 1978-</td>\n",
       "      <td>Revolutionaries Comic books strips etc, Terror...</td>\n",
       "      <td>Bandai Entertainment,</td>\n",
       "      <td>2011.</td>\n",
       "    </tr>\n",
       "    <tr>\n",
       "      <th>1</th>\n",
       "      <td>Physical</td>\n",
       "      <td>Horizon</td>\n",
       "      <td>BOOK</td>\n",
       "      <td>2012</td>\n",
       "      <td>2</td>\n",
       "      <td>1</td>\n",
       "      <td>Glavnyĭ semeĭnyĭ spravochnik po medi︠t︡sine : ...</td>\n",
       "      <td>Swartzberg, John Edward, 1945-</td>\n",
       "      <td>Medicine Popular Handbooks manuals etc, Self c...</td>\n",
       "      <td>AST : Astrelʹ,</td>\n",
       "      <td>2007.</td>\n",
       "    </tr>\n",
       "    <tr>\n",
       "      <th>2</th>\n",
       "      <td>Physical</td>\n",
       "      <td>Horizon</td>\n",
       "      <td>BOOK</td>\n",
       "      <td>2012</td>\n",
       "      <td>2</td>\n",
       "      <td>1</td>\n",
       "      <td>style all her own</td>\n",
       "      <td>NaN</td>\n",
       "      <td>Individuality Fiction, Clothing and dress Fict...</td>\n",
       "      <td>NaN</td>\n",
       "      <td>NaN</td>\n",
       "    </tr>\n",
       "    <tr>\n",
       "      <th>3</th>\n",
       "      <td>Physical</td>\n",
       "      <td>Horizon</td>\n",
       "      <td>BOOK</td>\n",
       "      <td>2012</td>\n",
       "      <td>2</td>\n",
       "      <td>1</td>\n",
       "      <td>Halmŏni ŭi chogakpo / Pʻaetʻŭrisya Pʻollakʻo c...</td>\n",
       "      <td>Polacco, Patricia</td>\n",
       "      <td>Quilts Juvenile fiction, Jews Fiction, Emigrat...</td>\n",
       "      <td>Mirae M&amp;B,</td>\n",
       "      <td>2003.</td>\n",
       "    </tr>\n",
       "    <tr>\n",
       "      <th>4</th>\n",
       "      <td>Physical</td>\n",
       "      <td>Horizon</td>\n",
       "      <td>BOOK</td>\n",
       "      <td>2012</td>\n",
       "      <td>2</td>\n",
       "      <td>3</td>\n",
       "      <td>Silly school / Marie-Louise Fitzpatrick.</td>\n",
       "      <td>Fitzpatrick, Marie-Louise</td>\n",
       "      <td>First day of school Juvenile fiction, Schools ...</td>\n",
       "      <td>Frances Lincoln Children's Books,</td>\n",
       "      <td>2008.</td>\n",
       "    </tr>\n",
       "    <tr>\n",
       "      <th>...</th>\n",
       "      <td>...</td>\n",
       "      <td>...</td>\n",
       "      <td>...</td>\n",
       "      <td>...</td>\n",
       "      <td>...</td>\n",
       "      <td>...</td>\n",
       "      <td>...</td>\n",
       "      <td>...</td>\n",
       "      <td>...</td>\n",
       "      <td>...</td>\n",
       "      <td>...</td>\n",
       "    </tr>\n",
       "    <tr>\n",
       "      <th>995</th>\n",
       "      <td>Digital</td>\n",
       "      <td>OverDrive</td>\n",
       "      <td>EBOOK</td>\n",
       "      <td>2012</td>\n",
       "      <td>2</td>\n",
       "      <td>7</td>\n",
       "      <td>The Devil Colony: Sigma Force Series, Book 7</td>\n",
       "      <td>James Rollins</td>\n",
       "      <td>Fiction, Thriller</td>\n",
       "      <td>HarperCollins Publishers Inc.</td>\n",
       "      <td>2011</td>\n",
       "    </tr>\n",
       "    <tr>\n",
       "      <th>996</th>\n",
       "      <td>Physical</td>\n",
       "      <td>Horizon</td>\n",
       "      <td>SOUNDDISC</td>\n",
       "      <td>2012</td>\n",
       "      <td>2</td>\n",
       "      <td>1</td>\n",
       "      <td>Solid gold soul 1971</td>\n",
       "      <td>NaN</td>\n",
       "      <td>Soul music, Popular music 1971 1980</td>\n",
       "      <td>NaN</td>\n",
       "      <td>NaN</td>\n",
       "    </tr>\n",
       "    <tr>\n",
       "      <th>997</th>\n",
       "      <td>Physical</td>\n",
       "      <td>Horizon</td>\n",
       "      <td>SOUNDDISC</td>\n",
       "      <td>2012</td>\n",
       "      <td>2</td>\n",
       "      <td>1</td>\n",
       "      <td>The basics of genetics [sound recording] / by ...</td>\n",
       "      <td>Dyer, Betsey Dexter</td>\n",
       "      <td>Genetics</td>\n",
       "      <td>Recorded Books,</td>\n",
       "      <td>p2009.</td>\n",
       "    </tr>\n",
       "    <tr>\n",
       "      <th>998</th>\n",
       "      <td>Physical</td>\n",
       "      <td>Horizon</td>\n",
       "      <td>SOUNDDISC</td>\n",
       "      <td>2012</td>\n",
       "      <td>2</td>\n",
       "      <td>1</td>\n",
       "      <td>Pianissimo</td>\n",
       "      <td>NaN</td>\n",
       "      <td>Piano music Jazz, Latin jazz Cuba, Jazz Cuba 1...</td>\n",
       "      <td>NaN</td>\n",
       "      <td>NaN</td>\n",
       "    </tr>\n",
       "    <tr>\n",
       "      <th>999</th>\n",
       "      <td>Physical</td>\n",
       "      <td>Horizon</td>\n",
       "      <td>BOOK</td>\n",
       "      <td>2012</td>\n",
       "      <td>2</td>\n",
       "      <td>1</td>\n",
       "      <td>Is media violence a problem? / Stefan Kiesbye,...</td>\n",
       "      <td>NaN</td>\n",
       "      <td>Violence in mass media, Mass media Social aspects</td>\n",
       "      <td>Greenhaven Press,</td>\n",
       "      <td>2010.</td>\n",
       "    </tr>\n",
       "  </tbody>\n",
       "</table>\n",
       "<p>1000 rows × 11 columns</p>\n",
       "</div>"
      ],
      "text/plain": [
       "    usageclass checkouttype materialtype  checkoutyear  checkoutmonth  \\\n",
       "0     Physical      Horizon         BOOK          2012              2   \n",
       "1     Physical      Horizon         BOOK          2012              2   \n",
       "2     Physical      Horizon         BOOK          2012              2   \n",
       "3     Physical      Horizon         BOOK          2012              2   \n",
       "4     Physical      Horizon         BOOK          2012              2   \n",
       "..         ...          ...          ...           ...            ...   \n",
       "995    Digital    OverDrive        EBOOK          2012              2   \n",
       "996   Physical      Horizon    SOUNDDISC          2012              2   \n",
       "997   Physical      Horizon    SOUNDDISC          2012              2   \n",
       "998   Physical      Horizon    SOUNDDISC          2012              2   \n",
       "999   Physical      Horizon         BOOK          2012              2   \n",
       "\n",
       "     checkouts                                              title  \\\n",
       "0            2  Code Geass : Lelouch of the rebellion. [8] / b...   \n",
       "1            1  Glavnyĭ semeĭnyĭ spravochnik po medi︠t︡sine : ...   \n",
       "2            1                                  style all her own   \n",
       "3            1  Halmŏni ŭi chogakpo / Pʻaetʻŭrisya Pʻollakʻo c...   \n",
       "4            3           Silly school / Marie-Louise Fitzpatrick.   \n",
       "..         ...                                                ...   \n",
       "995          7       The Devil Colony: Sigma Force Series, Book 7   \n",
       "996          1                               Solid gold soul 1971   \n",
       "997          1  The basics of genetics [sound recording] / by ...   \n",
       "998          1                                         Pianissimo   \n",
       "999          1  Is media violence a problem? / Stefan Kiesbye,...   \n",
       "\n",
       "                            creator  \\\n",
       "0                     Majiko, 1978-   \n",
       "1    Swartzberg, John Edward, 1945-   \n",
       "2                               NaN   \n",
       "3                 Polacco, Patricia   \n",
       "4         Fitzpatrick, Marie-Louise   \n",
       "..                              ...   \n",
       "995                   James Rollins   \n",
       "996                             NaN   \n",
       "997             Dyer, Betsey Dexter   \n",
       "998                             NaN   \n",
       "999                             NaN   \n",
       "\n",
       "                                              subjects  \\\n",
       "0    Revolutionaries Comic books strips etc, Terror...   \n",
       "1    Medicine Popular Handbooks manuals etc, Self c...   \n",
       "2    Individuality Fiction, Clothing and dress Fict...   \n",
       "3    Quilts Juvenile fiction, Jews Fiction, Emigrat...   \n",
       "4    First day of school Juvenile fiction, Schools ...   \n",
       "..                                                 ...   \n",
       "995                                  Fiction, Thriller   \n",
       "996                Soul music, Popular music 1971 1980   \n",
       "997                                           Genetics   \n",
       "998  Piano music Jazz, Latin jazz Cuba, Jazz Cuba 1...   \n",
       "999  Violence in mass media, Mass media Social aspects   \n",
       "\n",
       "                             publisher publicationyear  \n",
       "0                Bandai Entertainment,           2011.  \n",
       "1                       AST : Astrelʹ,           2007.  \n",
       "2                                  NaN             NaN  \n",
       "3                           Mirae M&B,           2003.  \n",
       "4    Frances Lincoln Children's Books,           2008.  \n",
       "..                                 ...             ...  \n",
       "995      HarperCollins Publishers Inc.            2011  \n",
       "996                                NaN             NaN  \n",
       "997                    Recorded Books,          p2009.  \n",
       "998                                NaN             NaN  \n",
       "999                  Greenhaven Press,           2010.  \n",
       "\n",
       "[1000 rows x 11 columns]"
      ]
     },
     "execution_count": 58,
     "metadata": {},
     "output_type": "execute_result"
    }
   ],
   "source": [
    "spl_title"
   ]
  },
  {
   "cell_type": "markdown",
   "metadata": {},
   "source": [
    "Für die folgende Analyse muss beachtet werden, dass die Auswertung nur für die hier vorliegende Stichprobe von 1000 Objekten zutreffend ist. "
   ]
  },
  {
   "cell_type": "code",
   "execution_count": 59,
   "metadata": {},
   "outputs": [
    {
     "data": {
      "text/plain": [
       "count    1000.000000\n",
       "mean        2.994000\n",
       "std         5.875243\n",
       "min         1.000000\n",
       "25%         1.000000\n",
       "50%         1.000000\n",
       "75%         3.000000\n",
       "max       125.000000\n",
       "Name: checkouts, dtype: float64"
      ]
     },
     "execution_count": 59,
     "metadata": {},
     "output_type": "execute_result"
    }
   ],
   "source": [
    "spl_title.checkouts.describe()"
   ]
  },
  {
   "cell_type": "code",
   "execution_count": 60,
   "metadata": {},
   "outputs": [
    {
     "data": {
      "text/plain": [
       "<AxesSubplot:>"
      ]
     },
     "execution_count": 60,
     "metadata": {},
     "output_type": "execute_result"
    },
    {
     "data": {
      "image/png": "[encoded data removed]",
      "text/plain": [
       "<Figure size 432x288 with 1 Axes>"
      ]
     },
     "metadata": {
      "needs_background": "light"
     },
     "output_type": "display_data"
    }
   ],
   "source": [
    "spl_title.checkouts.hist(bins=100)"
   ]
  },
  {
   "cell_type": "markdown",
   "metadata": {},
   "source": [
    "Innerhalb der 1000 hier betrachteten Objekte wurde ein Medium im Durchschnitt 3,4-Mal ausgeliehen. Der Median beträgt 2. Das häufigste Medium wurde 181-Mal ausgeliehen. \n",
    "Anhand des erzeugten Histogramms lässt sich erkennen, der Großteil der Medien (über 600) nur einmal ausgeliehen worden sind. Das Medium, welches 125-Mal ausgeliehen worden ist, stellt einen absoluten Ausreißer dar. \n",
    "Im Folgenden soll herausgefunden werden, wie der Titel dieses Mediums lautet."
   ]
  },
  {
   "cell_type": "code",
   "execution_count": 61,
   "metadata": {},
   "outputs": [
    {
     "data": {
      "text/plain": [
       "pandas.core.series.Series"
      ]
     },
     "execution_count": 61,
     "metadata": {},
     "output_type": "execute_result"
    }
   ],
   "source": [
    "type(spl_title.checkouts)"
   ]
  },
  {
   "cell_type": "markdown",
   "metadata": {},
   "source": [
    "Um mit der Spalte Checkouts arbeiten zu können, muss diese zunächst in ein Dictionary umgewandelt werden. "
   ]
  },
  {
   "cell_type": "code",
   "execution_count": 62,
   "metadata": {},
   "outputs": [],
   "source": [
    "checkouts = dict(spl_title.checkouts)"
   ]
  },
  {
   "cell_type": "code",
   "execution_count": 75,
   "metadata": {},
   "outputs": [
    {
     "name": "stdout",
     "output_type": "stream",
     "text": [
      "Date night [videorecording] / Twentieth Century Fox ; a 21 Laps production ; written by Josh Klausner ; produced and directed by Shawn Levy.\n"
     ]
    }
   ],
   "source": [
    "for i in checkouts:\n",
    "    if str(checkouts[i]).__contains__(\"125\"):\n",
    "        print(spl_title.title[i])"
   ]
  },
  {
   "cell_type": "markdown",
   "metadata": {},
   "source": [
    "Der Titel des Buches, welcher innerhalb der betrachteten Stichprobe am häufigsten ausgliehen worden ist, lautet: \"Date night [videorecording] / Twentieth Century Fox ; a 21 Laps production ; written by Josh Klausner ; produced and directed by Shawn Levy.\""
   ]
  },
  {
   "cell_type": "code",
   "execution_count": 81,
   "metadata": {},
   "outputs": [
    {
     "name": "stdout",
     "output_type": "stream",
     "text": [
      "Date night [videorecording] / Twentieth Century Fox ; a 21 Laps production ; written by Josh Klausner ; produced and directed by Shawn Levy.\n"
     ]
    }
   ],
   "source": [
    "# Um nicht vorher mit der Funktion describe() herausfinden zu müssen, wo der Maximalwert liegt, wird der zuvor verwendete \n",
    "# String \"125\" durch \"str(spl_title.checkouts.max())\" ersetzt. So kann die Funktion auf jede Stichprobe des Datensatzes \n",
    "# angewendet werden.\n",
    "\n",
    "for i in checkouts:\n",
    "    if str(checkouts[i]).__contains__(str(spl_title.checkouts.max())):\n",
    "        print(spl_title.title[i])"
   ]
  },
  {
   "cell_type": "code",
   "execution_count": 90,
   "metadata": {},
   "outputs": [
    {
     "name": "stdout",
     "output_type": "stream",
     "text": [
      "Date night [videorecording] / Twentieth Century Fox ; a 21 Laps production ; written by Josh Klausner ; produced and directed by Shawn Levy. wurde 125-mal ausgeliehen.\n"
     ]
    }
   ],
   "source": [
    "# Erweiterung der Bildschirmausgabe: Es soll nicht nur ausgegeben werden, welches Buch am häufigsten ausgeliehen wurde,\n",
    "# sondern auch, wie häufig dieses ausgeliehen wurde. \n",
    "\n",
    "for i in checkouts:\n",
    "    if str(checkouts[i]).__contains__(str(spl_title.checkouts.max())):\n",
    "        print(spl_title.title[i] + \" wurde \" + str(spl_title.checkouts.max()) + \"-mal ausgeliehen.\")"
   ]
  },
  {
   "cell_type": "markdown",
   "metadata": {},
   "source": [
    "# Diskussion"
   ]
  },
  {
   "cell_type": "markdown",
   "metadata": {},
   "source": [
    "Es wurden zwei \"kleinere\" und zwei \"größere\" Fragestellungen beantwortet. Die beiden kleineren Fragestellungen (1 und 2) konnten jeweils mit der Funktion describe() beantwortet werden. Diese Funktion ist eine gute Möglichkeit, um sich einen ersten Überblick über größere Datenmengen zu verschaffen\n",
    "\n",
    "Die zu anfangs formulierte Fragestellung, wie viele Titel es zum Thema Computer Programming gibt (Fragestellung), konnte beantwortet und um zwei Aspekte erweitert werden. Es wurden zwei Funktionen implementiert: \n",
    "1) Eine die überprüft, wie viele Objekte einen übergebenen String in der Spalte Subjects enthalten, um die anfangs formulierte Fragestellung für jeden String beantworten zu können. \n",
    "2) Eine, die die Titel aller Objekte ausgibt, welche einen übergebenen String in der Spalte Subjects enthalten.\n",
    "\n",
    "Anschließend hat mich die Fragestellung interessiert, welches Buch am häufigsten ausgeliehen worden ist. Dazu habe ich zusätzlich das 'Checkouts by Title' Datenset hinzugezogen. Mithilfe der Implementierung einer for-Schleife konnte die formulierte Fragestellung beantwortet werden.\n",
    "\n",
    "Schwierigkeiten: Dadurch, dass der Großteil der Daten im des 'Library Collection Inventory' Datensets im PlainText Format vorliegt, musste ich eine zu anfangs formulierte Fragestellung wieder verwerfen. Es sollte untersucht werden, aus welchem Erscheinungsjahr die meisten der vorhandenen physischen Objekte stammen. Die Erscheinungsjahre lagen allerdings nur als String vor und nicht als Integer. Dadurch, dass die Erscheinungsjahre teilweise geklammert waren, z.B. \"[2015]\" oder Satzzeichen enthielten, z.B. \"2015.\", habe ich es nicht geschafft die Daten in den Typ Integer umzuwandeln und konnte diese Fragestellung somit nicht beantworten."
   ]
  }
 ],
 "metadata": {
  "kernelspec": {
   "display_name": "Python 3",
   "language": "python",
   "name": "python3"
  },
  "language_info": {
   "codemirror_mode": {
    "name": "ipython",
    "version": 3
   },
   "file_extension": ".py",
   "mimetype": "text/x-python",
   "name": "python",
   "nbconvert_exporter": "python",
   "pygments_lexer": "ipython3",
   "version": "3.8.5"
  }
 },
 "nbformat": 4,
 "nbformat_minor": 4
}
