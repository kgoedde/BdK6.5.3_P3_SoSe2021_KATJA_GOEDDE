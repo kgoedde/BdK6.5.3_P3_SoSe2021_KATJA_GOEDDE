{
 "cells": [
  {
   "cell_type": "markdown",
   "metadata": {},
   "source": [
    "# Datenanalyse des \"Library Collection Inventory\" Datenset der Seattle Public Library"
   ]
  },
  {
   "cell_type": "markdown",
   "metadata": {},
   "source": [
    "## Beschreibung des Datensets"
   ]
  },
  {
   "cell_type": "markdown",
   "metadata": {},
   "source": [
    "Für die Datenananlyse wurde das \"Library Collection Inventory\" Datenset der Seattle Public Library ausgewählt. Das Datenset enthält Daten zu allen physischen Objekten der Seattle Public Library. Es sind insgemsamt 13 Spalten vorhanden, welche unter anderem Informationen zu Titel, Autor, ISBN, Erscheinungsjahr, spezifische thematische Schlagwörter, welche für ein Objekt vergeben worden sind und Informationen über den Standort eines Objekts enthalten."
   ]
  },
  {
   "cell_type": "markdown",
   "metadata": {},
   "source": [
    "## Fragestellungen"
   ]
  },
  {
   "cell_type": "markdown",
   "metadata": {},
   "source": [
    "Es werden in der folgenden Analyse drei Fragestellungen/Hypothesen untersucht: \n",
    "\n",
    "1) Wie viele Objekte „schweben“ zur Zeit der letzten Momentaufnahme?\n",
    "\n",
    "2) Wie viele Objekte gibt es zum Thema Computer Programming? \n",
    "\n",
    "3) Histogramm Publication Year: In welchem Jahr sind die meisten physischen Objekte in der Seattle Public Library erschienen?"
   ]
  },
  {
   "cell_type": "markdown",
   "metadata": {},
   "source": [
    "## Datenanalyse"
   ]
  },
  {
   "cell_type": "code",
   "execution_count": 6,
   "metadata": {},
   "outputs": [],
   "source": [
    "# Zunächst werden die Pakete \"pandas\", \"seaborn\" sowie \"matplotlib.pyplot\" importiert.\n",
    "import pandas as pd\n",
    "import seaborn as sns\n",
    "import matplotlib.pyplot as plt"
   ]
  },
  {
   "cell_type": "code",
   "execution_count": 7,
   "metadata": {},
   "outputs": [],
   "source": [
    "url = \"https://data.seattle.gov/resource/6vkj-f5xf.csv\"\n",
    "spl = pd.read_csv(url)"
   ]
  },
  {
   "cell_type": "code",
   "execution_count": 8,
   "metadata": {},
   "outputs": [
    {
     "data": {
      "text/html": [
       "<div>\n",
       "<style scoped>\n",
       "    .dataframe tbody tr th:only-of-type {\n",
       "        vertical-align: middle;\n",
       "    }\n",
       "\n",
       "    .dataframe tbody tr th {\n",
       "        vertical-align: top;\n",
       "    }\n",
       "\n",
       "    .dataframe thead th {\n",
       "        text-align: right;\n",
       "    }\n",
       "</style>\n",
       "<table border=\"1\" class=\"dataframe\">\n",
       "  <thead>\n",
       "    <tr style=\"text-align: right;\">\n",
       "      <th></th>\n",
       "      <th>bibnum</th>\n",
       "      <th>title</th>\n",
       "      <th>author</th>\n",
       "      <th>isbn</th>\n",
       "      <th>publicationyear</th>\n",
       "      <th>publisher</th>\n",
       "      <th>subjects</th>\n",
       "      <th>itemtype</th>\n",
       "      <th>itemcollection</th>\n",
       "      <th>floatingitem</th>\n",
       "      <th>itemlocation</th>\n",
       "      <th>reportdate</th>\n",
       "      <th>itemcount</th>\n",
       "    </tr>\n",
       "  </thead>\n",
       "  <tbody>\n",
       "    <tr>\n",
       "      <th>0</th>\n",
       "      <td>106278</td>\n",
       "      <td>The Sporting news' national football guide.</td>\n",
       "      <td>NaN</td>\n",
       "      <td>NaN</td>\n",
       "      <td>NaN</td>\n",
       "      <td>Sporting News.</td>\n",
       "      <td>Football United States History Periodicals</td>\n",
       "      <td>arbk</td>\n",
       "      <td>cs8r</td>\n",
       "      <td>NaN</td>\n",
       "      <td>cen</td>\n",
       "      <td>2017-09-01T00:00:00.000</td>\n",
       "      <td>1</td>\n",
       "    </tr>\n",
       "    <tr>\n",
       "      <th>1</th>\n",
       "      <td>442617</td>\n",
       "      <td>NaN</td>\n",
       "      <td>NaN</td>\n",
       "      <td>NaN</td>\n",
       "      <td>NaN</td>\n",
       "      <td>NaN</td>\n",
       "      <td>NaN</td>\n",
       "      <td>acmus</td>\n",
       "      <td>camus</td>\n",
       "      <td>NaN</td>\n",
       "      <td>cen</td>\n",
       "      <td>2017-09-01T00:00:00.000</td>\n",
       "      <td>1</td>\n",
       "    </tr>\n",
       "    <tr>\n",
       "      <th>2</th>\n",
       "      <td>2748722</td>\n",
       "      <td>You can get there from here : my journey from ...</td>\n",
       "      <td>Knowling, Bob</td>\n",
       "      <td>1591844223, 9781591844228</td>\n",
       "      <td>2011.</td>\n",
       "      <td>Portfolio/Penguin,</td>\n",
       "      <td>Knowling Bob, African American businesspeople ...</td>\n",
       "      <td>acbk</td>\n",
       "      <td>naaanf</td>\n",
       "      <td>NaN</td>\n",
       "      <td>dth</td>\n",
       "      <td>2017-09-01T00:00:00.000</td>\n",
       "      <td>1</td>\n",
       "    </tr>\n",
       "    <tr>\n",
       "      <th>3</th>\n",
       "      <td>2881800</td>\n",
       "      <td>Naomi [sound recording] / the Cave Singers.</td>\n",
       "      <td>Cave Singers</td>\n",
       "      <td>NaN</td>\n",
       "      <td>p2013.</td>\n",
       "      <td>Jagjaguwar,</td>\n",
       "      <td>Popular music 2011 2020, Rock music 2011 2020</td>\n",
       "      <td>accd</td>\n",
       "      <td>naover</td>\n",
       "      <td>NaN</td>\n",
       "      <td>gwd</td>\n",
       "      <td>2017-09-01T00:00:00.000</td>\n",
       "      <td>1</td>\n",
       "    </tr>\n",
       "    <tr>\n",
       "      <th>4</th>\n",
       "      <td>3181907</td>\n",
       "      <td>Bilgewater / Jane Gardam.</td>\n",
       "      <td>Gardam, Jane</td>\n",
       "      <td>160945331X, 9781609453312</td>\n",
       "      <td>2016.</td>\n",
       "      <td>Europa Editions,</td>\n",
       "      <td>Teenage girls Fiction, Teenagers Fiction, Boar...</td>\n",
       "      <td>acbk</td>\n",
       "      <td>nafic</td>\n",
       "      <td>NaN</td>\n",
       "      <td>qna</td>\n",
       "      <td>2017-09-01T00:00:00.000</td>\n",
       "      <td>1</td>\n",
       "    </tr>\n",
       "    <tr>\n",
       "      <th>...</th>\n",
       "      <td>...</td>\n",
       "      <td>...</td>\n",
       "      <td>...</td>\n",
       "      <td>...</td>\n",
       "      <td>...</td>\n",
       "      <td>...</td>\n",
       "      <td>...</td>\n",
       "      <td>...</td>\n",
       "      <td>...</td>\n",
       "      <td>...</td>\n",
       "      <td>...</td>\n",
       "      <td>...</td>\n",
       "      <td>...</td>\n",
       "    </tr>\n",
       "    <tr>\n",
       "      <th>995</th>\n",
       "      <td>2035646</td>\n",
       "      <td>Friedrich Hayek : a biography / Alan Ebenstein.</td>\n",
       "      <td>Ebenstein, Alan O.</td>\n",
       "      <td>0312233442</td>\n",
       "      <td>2001.</td>\n",
       "      <td>St. Martin's Press,</td>\n",
       "      <td>Hayek Friedrich A von Friedrich August 1899 19...</td>\n",
       "      <td>acbk</td>\n",
       "      <td>canf</td>\n",
       "      <td>NaN</td>\n",
       "      <td>cen</td>\n",
       "      <td>2017-09-01T00:00:00.000</td>\n",
       "      <td>1</td>\n",
       "    </tr>\n",
       "    <tr>\n",
       "      <th>996</th>\n",
       "      <td>3181802</td>\n",
       "      <td>The young Messiah [videorecording] / Focus Fea...</td>\n",
       "      <td>NaN</td>\n",
       "      <td>NaN</td>\n",
       "      <td>2016.</td>\n",
       "      <td>Universal Pictures Home Entertainment,</td>\n",
       "      <td>Jesus Christ Drama, Feature films, Religious f...</td>\n",
       "      <td>acdvd</td>\n",
       "      <td>nadvd</td>\n",
       "      <td>Floating</td>\n",
       "      <td>dlr</td>\n",
       "      <td>2017-09-01T00:00:00.000</td>\n",
       "      <td>2</td>\n",
       "    </tr>\n",
       "    <tr>\n",
       "      <th>997</th>\n",
       "      <td>3042073</td>\n",
       "      <td>In the company of Sherlock Holmes : stories in...</td>\n",
       "      <td>NaN</td>\n",
       "      <td>1605986585, 9781605986586</td>\n",
       "      <td>2014.</td>\n",
       "      <td>Pegasus Crime,</td>\n",
       "      <td>Holmes Sherlock Fiction, Watson John H Fictiti...</td>\n",
       "      <td>acbk</td>\n",
       "      <td>namys</td>\n",
       "      <td>Floating</td>\n",
       "      <td>mon</td>\n",
       "      <td>2017-09-01T00:00:00.000</td>\n",
       "      <td>1</td>\n",
       "    </tr>\n",
       "    <tr>\n",
       "      <th>998</th>\n",
       "      <td>2959621</td>\n",
       "      <td>The food parade : healthy eating with the nutr...</td>\n",
       "      <td>Castaldi, Elicia</td>\n",
       "      <td>0805091769, 9780805091762</td>\n",
       "      <td>2013.</td>\n",
       "      <td>Christy Ottaviano Books, Henry Holt and Company,</td>\n",
       "      <td>Diet Juvenile fiction, Children Nutrition Juve...</td>\n",
       "      <td>jcbk</td>\n",
       "      <td>ncnf</td>\n",
       "      <td>NaN</td>\n",
       "      <td>dth</td>\n",
       "      <td>2017-09-01T00:00:00.000</td>\n",
       "      <td>1</td>\n",
       "    </tr>\n",
       "    <tr>\n",
       "      <th>999</th>\n",
       "      <td>3079880</td>\n",
       "      <td>House rivals / Mike Lawson.</td>\n",
       "      <td>Lawson, Michael, 1948-</td>\n",
       "      <td>0802123600, 9780802123602</td>\n",
       "      <td>[2015]</td>\n",
       "      <td>Atlantic Monthly Press,</td>\n",
       "      <td>DeMarco Joe Fictitious character Fiction, Gove...</td>\n",
       "      <td>acbk</td>\n",
       "      <td>nafic</td>\n",
       "      <td>NaN</td>\n",
       "      <td>uni</td>\n",
       "      <td>2017-09-01T00:00:00.000</td>\n",
       "      <td>1</td>\n",
       "    </tr>\n",
       "  </tbody>\n",
       "</table>\n",
       "<p>1000 rows × 13 columns</p>\n",
       "</div>"
      ],
      "text/plain": [
       "      bibnum                                              title  \\\n",
       "0     106278        The Sporting news' national football guide.   \n",
       "1     442617                                                NaN   \n",
       "2    2748722  You can get there from here : my journey from ...   \n",
       "3    2881800        Naomi [sound recording] / the Cave Singers.   \n",
       "4    3181907                          Bilgewater / Jane Gardam.   \n",
       "..       ...                                                ...   \n",
       "995  2035646    Friedrich Hayek : a biography / Alan Ebenstein.   \n",
       "996  3181802  The young Messiah [videorecording] / Focus Fea...   \n",
       "997  3042073  In the company of Sherlock Holmes : stories in...   \n",
       "998  2959621  The food parade : healthy eating with the nutr...   \n",
       "999  3079880                        House rivals / Mike Lawson.   \n",
       "\n",
       "                     author                       isbn publicationyear  \\\n",
       "0                       NaN                        NaN             NaN   \n",
       "1                       NaN                        NaN             NaN   \n",
       "2             Knowling, Bob  1591844223, 9781591844228           2011.   \n",
       "3              Cave Singers                        NaN          p2013.   \n",
       "4              Gardam, Jane  160945331X, 9781609453312           2016.   \n",
       "..                      ...                        ...             ...   \n",
       "995      Ebenstein, Alan O.                 0312233442           2001.   \n",
       "996                     NaN                        NaN           2016.   \n",
       "997                     NaN  1605986585, 9781605986586           2014.   \n",
       "998        Castaldi, Elicia  0805091769, 9780805091762           2013.   \n",
       "999  Lawson, Michael, 1948-  0802123600, 9780802123602          [2015]   \n",
       "\n",
       "                                            publisher  \\\n",
       "0                                      Sporting News.   \n",
       "1                                                 NaN   \n",
       "2                                  Portfolio/Penguin,   \n",
       "3                                         Jagjaguwar,   \n",
       "4                                    Europa Editions,   \n",
       "..                                                ...   \n",
       "995                               St. Martin's Press,   \n",
       "996            Universal Pictures Home Entertainment,   \n",
       "997                                    Pegasus Crime,   \n",
       "998  Christy Ottaviano Books, Henry Holt and Company,   \n",
       "999                           Atlantic Monthly Press,   \n",
       "\n",
       "                                              subjects itemtype  \\\n",
       "0           Football United States History Periodicals     arbk   \n",
       "1                                                  NaN    acmus   \n",
       "2    Knowling Bob, African American businesspeople ...     acbk   \n",
       "3        Popular music 2011 2020, Rock music 2011 2020     accd   \n",
       "4    Teenage girls Fiction, Teenagers Fiction, Boar...     acbk   \n",
       "..                                                 ...      ...   \n",
       "995  Hayek Friedrich A von Friedrich August 1899 19...     acbk   \n",
       "996  Jesus Christ Drama, Feature films, Religious f...    acdvd   \n",
       "997  Holmes Sherlock Fiction, Watson John H Fictiti...     acbk   \n",
       "998  Diet Juvenile fiction, Children Nutrition Juve...     jcbk   \n",
       "999  DeMarco Joe Fictitious character Fiction, Gove...     acbk   \n",
       "\n",
       "    itemcollection floatingitem itemlocation               reportdate  \\\n",
       "0             cs8r          NaN          cen  2017-09-01T00:00:00.000   \n",
       "1            camus          NaN          cen  2017-09-01T00:00:00.000   \n",
       "2           naaanf          NaN          dth  2017-09-01T00:00:00.000   \n",
       "3           naover          NaN          gwd  2017-09-01T00:00:00.000   \n",
       "4            nafic          NaN          qna  2017-09-01T00:00:00.000   \n",
       "..             ...          ...          ...                      ...   \n",
       "995           canf          NaN          cen  2017-09-01T00:00:00.000   \n",
       "996          nadvd     Floating          dlr  2017-09-01T00:00:00.000   \n",
       "997          namys     Floating          mon  2017-09-01T00:00:00.000   \n",
       "998           ncnf          NaN          dth  2017-09-01T00:00:00.000   \n",
       "999          nafic          NaN          uni  2017-09-01T00:00:00.000   \n",
       "\n",
       "     itemcount  \n",
       "0            1  \n",
       "1            1  \n",
       "2            1  \n",
       "3            1  \n",
       "4            1  \n",
       "..         ...  \n",
       "995          1  \n",
       "996          2  \n",
       "997          1  \n",
       "998          1  \n",
       "999          1  \n",
       "\n",
       "[1000 rows x 13 columns]"
      ]
     },
     "execution_count": 8,
     "metadata": {},
     "output_type": "execute_result"
    }
   ],
   "source": [
    "spl"
   ]
  },
  {
   "cell_type": "markdown",
   "metadata": {},
   "source": [
    "Das Datenset wurde nicht vollständig importiert. Das originale Datenset enthält 66,2 Millionen Zeilen. Im Folgenden werden nur die übernommen 1000 Zeilen betrachtet."
   ]
  },
  {
   "cell_type": "markdown",
   "metadata": {},
   "source": [
    "## Fragestellung 1\n",
    "#### Wie viele Objekte „schweben“ zur Zeit der letzten Momentaufnahme?"
   ]
  },
  {
   "cell_type": "code",
   "execution_count": 11,
   "metadata": {},
   "outputs": [
    {
     "data": {
      "text/plain": [
       "0           NaN\n",
       "1           NaN\n",
       "2           NaN\n",
       "3           NaN\n",
       "4           NaN\n",
       "         ...   \n",
       "995         NaN\n",
       "996    Floating\n",
       "997    Floating\n",
       "998         NaN\n",
       "999         NaN\n",
       "Name: floatingitem, Length: 1000, dtype: object"
      ]
     },
     "execution_count": 11,
     "metadata": {},
     "output_type": "execute_result"
    }
   ],
   "source": [
    "spl[\"floatingitem\"]"
   ]
  },
  {
   "cell_type": "code",
   "execution_count": 12,
   "metadata": {},
   "outputs": [
    {
     "data": {
      "text/plain": [
       "count          145\n",
       "unique           1\n",
       "top       Floating\n",
       "freq           145\n",
       "Name: floatingitem, dtype: object"
      ]
     },
     "execution_count": 12,
     "metadata": {},
     "output_type": "execute_result"
    }
   ],
   "source": [
    "spl.floatingitem.describe()"
   ]
  },
  {
   "cell_type": "markdown",
   "metadata": {},
   "source": [
    "Innerhalb der Variable \"floatingitem\" sind nur zwei Werte vertreten: \"NaN\" und \"Floating\". Mithilfe der Funktion \"describe()\" konnte herausgefunden werden, dass 145 der 1000 Objekte sich im Status \"Floating\" befinden. "
   ]
  },
  {
   "cell_type": "markdown",
   "metadata": {},
   "source": [
    "## Fragestellung 2\n",
    "#### Wie viele physische Objekte gibt es zum Thema Computer Programming? "
   ]
  },
  {
   "cell_type": "code",
   "execution_count": 13,
   "metadata": {},
   "outputs": [
    {
     "data": {
      "text/plain": [
       "0             Football United States History Periodicals\n",
       "1                                                    NaN\n",
       "2      Knowling Bob, African American businesspeople ...\n",
       "3          Popular music 2011 2020, Rock music 2011 2020\n",
       "4      Teenage girls Fiction, Teenagers Fiction, Boar...\n",
       "                             ...                        \n",
       "995    Hayek Friedrich A von Friedrich August 1899 19...\n",
       "996    Jesus Christ Drama, Feature films, Religious f...\n",
       "997    Holmes Sherlock Fiction, Watson John H Fictiti...\n",
       "998    Diet Juvenile fiction, Children Nutrition Juve...\n",
       "999    DeMarco Joe Fictitious character Fiction, Gove...\n",
       "Name: subjects, Length: 1000, dtype: object"
      ]
     },
     "execution_count": 13,
     "metadata": {},
     "output_type": "execute_result"
    }
   ],
   "source": [
    "spl[\"subjects\"]"
   ]
  },
  {
   "cell_type": "code",
   "execution_count": 14,
   "metadata": {},
   "outputs": [
    {
     "data": {
      "text/plain": [
       "count                      951\n",
       "unique                     927\n",
       "top       Rock music 2011 2020\n",
       "freq                         7\n",
       "Name: subjects, dtype: object"
      ]
     },
     "execution_count": 14,
     "metadata": {},
     "output_type": "execute_result"
    }
   ],
   "source": [
    "spl.subjects.describe()"
   ]
  },
  {
   "cell_type": "markdown",
   "metadata": {},
   "source": [
    "Innerhalb der 1000 Objekte sind für 951 Daten innerhalb der Variable Subjects hinterlegt. Wie zu erwarten handelt es sich größtenteils um unterschiedliche Inhalte. Der Inhalt/das Thema das am häufigsten vorkommt (7-mal) ist \"Rock music 2011 2020\".\n",
    "Im Folgenden soll untersucht werden, wie viele Werke der 1000 untersuchten Objekte das Thema \"Computer Programming\" behandeln."
   ]
  },
  {
   "cell_type": "markdown",
   "metadata": {},
   "source": [
    "Idee: for-Schleife, die den gesamten Datensatz durchläuft und für jede Zeile untersucht, ob der String \"Computer Programming\" im Feld subjects vorhanden ist. \n",
    "Um zu überprüfen, ob der String \"Computer Programming\" in subjects vorhanden ist, soll die Methode \"__contains__\" verwendet werden."
   ]
  },
  {
   "cell_type": "markdown",
   "metadata": {},
   "source": [
    "#### Testen der Methode contains"
   ]
  },
  {
   "cell_type": "code",
   "execution_count": 15,
   "metadata": {},
   "outputs": [
    {
     "data": {
      "text/plain": [
       "'Football United States History Periodicals'"
      ]
     },
     "execution_count": 15,
     "metadata": {},
     "output_type": "execute_result"
    }
   ],
   "source": [
    "spl.subjects[0]"
   ]
  },
  {
   "cell_type": "code",
   "execution_count": 16,
   "metadata": {},
   "outputs": [
    {
     "data": {
      "text/plain": [
       "True"
      ]
     },
     "execution_count": 16,
     "metadata": {},
     "output_type": "execute_result"
    }
   ],
   "source": [
    "spl.subjects[0].__contains__(\"Football\")"
   ]
  },
  {
   "cell_type": "code",
   "execution_count": 17,
   "metadata": {},
   "outputs": [
    {
     "data": {
      "text/plain": [
       "False"
      ]
     },
     "execution_count": 17,
     "metadata": {},
     "output_type": "execute_result"
    }
   ],
   "source": [
    "spl.subjects[0].__contains__(\"Computer Programming\")"
   ]
  },
  {
   "cell_type": "markdown",
   "metadata": {},
   "source": [
    "Die Methode contains gibt einen Wahrheitswert zurück. Wenn der übergebene String im zu untersuchenden String enthalten ist, wird True zurückgegeben, ist dies nicht der Fall wird False zurückgegeben. "
   ]
  },
  {
   "cell_type": "code",
   "execution_count": 18,
   "metadata": {},
   "outputs": [
    {
     "ename": "AttributeError",
     "evalue": "'float' object has no attribute '__contains__'",
     "output_type": "error",
     "traceback": [
      "\u001b[1;31m---------------------------------------------------------------------------\u001b[0m",
      "\u001b[1;31mAttributeError\u001b[0m                            Traceback (most recent call last)",
      "\u001b[1;32m<ipython-input-18-727718b0969b>\u001b[0m in \u001b[0;36m<module>\u001b[1;34m\u001b[0m\n\u001b[1;32m----> 1\u001b[1;33m \u001b[0mspl\u001b[0m\u001b[1;33m.\u001b[0m\u001b[0msubjects\u001b[0m\u001b[1;33m[\u001b[0m\u001b[1;36m1\u001b[0m\u001b[1;33m]\u001b[0m\u001b[1;33m.\u001b[0m\u001b[0m__contains__\u001b[0m\u001b[1;33m(\u001b[0m\u001b[1;34m\"Computer Programming\"\u001b[0m\u001b[1;33m)\u001b[0m\u001b[1;33m\u001b[0m\u001b[1;33m\u001b[0m\u001b[0m\n\u001b[0m",
      "\u001b[1;31mAttributeError\u001b[0m: 'float' object has no attribute '__contains__'"
     ]
    }
   ],
   "source": [
    "spl.subjects[1].__contains__(\"Computer Programming\")"
   ]
  },
  {
   "cell_type": "markdown",
   "metadata": {},
   "source": [
    "In der zweiten Zeile des Datensatzes befindet sich ein Eintrag, für den kein Subject, also der Wert NaN hinterlegt ist. Auf diesen kann die Funktion \"contains\" nicht angewendet werden. "
   ]
  },
  {
   "cell_type": "code",
   "execution_count": 30,
   "metadata": {},
   "outputs": [
    {
     "data": {
      "text/plain": [
       "str"
      ]
     },
     "execution_count": 30,
     "metadata": {},
     "output_type": "execute_result"
    }
   ],
   "source": [
    "type(subjects[0])"
   ]
  },
  {
   "cell_type": "code",
   "execution_count": 31,
   "metadata": {},
   "outputs": [
    {
     "data": {
      "text/plain": [
       "float"
      ]
     },
     "execution_count": 31,
     "metadata": {},
     "output_type": "execute_result"
    }
   ],
   "source": [
    "type(subjects[1])"
   ]
  },
  {
   "cell_type": "markdown",
   "metadata": {},
   "source": [
    "Mithilfe der Methode type konnte herausgefunden werden, dass die Datensätze, in denen unter subjects Daten hinterlegt sind, vom Typ String sind, während Daten, in denen keine Daten, also NaN hinterlegt ist, vom Typ float sind. "
   ]
  },
  {
   "cell_type": "code",
   "execution_count": 32,
   "metadata": {},
   "outputs": [
    {
     "data": {
      "text/plain": [
       "str"
      ]
     },
     "execution_count": 32,
     "metadata": {},
     "output_type": "execute_result"
    }
   ],
   "source": [
    "# Mithilfe der Methode str kann der Typ float in einen String umgewandelt werden.\n",
    "type(str(subjects[1]))"
   ]
  },
  {
   "cell_type": "code",
   "execution_count": 33,
   "metadata": {},
   "outputs": [
    {
     "data": {
      "text/plain": [
       "False"
      ]
     },
     "execution_count": 33,
     "metadata": {},
     "output_type": "execute_result"
    }
   ],
   "source": [
    "str(subjects[1]).__contains__(\"Football\")"
   ]
  },
  {
   "cell_type": "code",
   "execution_count": 34,
   "metadata": {},
   "outputs": [
    {
     "data": {
      "text/plain": [
       "True"
      ]
     },
     "execution_count": 34,
     "metadata": {},
     "output_type": "execute_result"
    }
   ],
   "source": [
    "str(subjects[1]).__contains__(\"nan\")"
   ]
  },
  {
   "cell_type": "markdown",
   "metadata": {},
   "source": [
    "Mithilfe der Methode str kann die Methode contains nun auch auf die Datensätze angewendet werden, für die keine Daten im Feld subjects hinterlegt sind."
   ]
  },
  {
   "cell_type": "code",
   "execution_count": 24,
   "metadata": {},
   "outputs": [],
   "source": [
    "# Um mit den subjects arbeiten zu können, müssen diese außerdem in ein Dictionary umgewandelt werden.\n",
    "# In der Variable Subjects wird der Inhalt der Spalte subjects aus dem Ausgangsdatensatz als Dictionary abgelegt.\n",
    "subjects = dict(spl.subjects)"
   ]
  },
  {
   "cell_type": "code",
   "execution_count": 25,
   "metadata": {},
   "outputs": [
    {
     "name": "stdout",
     "output_type": "stream",
     "text": [
      "Football United States History Periodicals\n",
      "nan\n",
      "Knowling Bob, African American businesspeople Biography, Success in business\n",
      "Popular music 2011 2020, Rock music 2011 2020\n",
      "Teenage girls Fiction, Teenagers Fiction, Boarding schools Fiction, Identity Psychology Fiction, England Fiction, Bildungsromans\n",
      "nan\n",
      "nan\n",
      "United States Federal Bureau of Investigation Drama, FBI Academy Behavioral Science Unit Drama, Criminal investigation Drama, Criminal behavior Prediction of Drama, Criminal profilers Drama, Television series, Fiction television programs, Television cop shows, Thrillers Television programs, Video recordings for the hearing impaired\n",
      "Cosby Bill 1937, Comedians United States Biography\n",
      "Aliksandrina Library History Juvenile literature, Libraries Egypt Alexandria Juvenile literature, Libraries Destruction and pillage Egypt Alexandria Juvenile literature, Cultural property Protection Juvenile literature, Egypt History 21st century Juvenile literature, Aliksandrina Library Juvenile literature, Cultural property Juvenile literature, Egypt History Juvenile literature\n"
     ]
    }
   ],
   "source": [
    "# Ausgabe des Dictionary subjects. Der Übersichtlichkeit halber werden nur die ersten 10 Zeilen ausgegeben.\n",
    "for i in subjects:\n",
    "    print(subjects[i])\n",
    "    if i >=9:\n",
    "        break"
   ]
  },
  {
   "cell_type": "markdown",
   "metadata": {},
   "source": [
    "### for-Schleife"
   ]
  },
  {
   "cell_type": "code",
   "execution_count": 26,
   "metadata": {},
   "outputs": [
    {
     "name": "stdout",
     "output_type": "stream",
     "text": [
      "0\n"
     ]
    }
   ],
   "source": [
    "# Es wird eine leere Liste namens ergebnis_computer_programming erzeugt. \n",
    "ergebnis_computer_programming = []\n",
    "\n",
    "# Die for-Schleife durchläuft das Dictionary subjects. Wenn der String \"Computer Programming\" in einer Zeile enthalten ist, \n",
    "# wird dies in der Ergebnisliste gespeichert. Die Länge der Ergebnisliste wird ausgegeben.\n",
    "for i in subjects:\n",
    "    if str(subjects[i]).__contains__(\"Computer Programming\"):\n",
    "        ergebnis_computer_programming.append(i)\n",
    "print(len(ergebnis_computer_programming))"
   ]
  },
  {
   "cell_type": "markdown",
   "metadata": {},
   "source": [
    "In der Liste sind keine Elemente enthalten. In dem Beispieldatensatz gibt es also kein Werk, welches mit dem Subject \"Computer Programming\" gekennzeichnet ist. Ich starte nochmal einen neuen Versuch mit dem Term \"Football\". "
   ]
  },
  {
   "cell_type": "code",
   "execution_count": 27,
   "metadata": {},
   "outputs": [
    {
     "name": "stdout",
     "output_type": "stream",
     "text": [
      "2\n"
     ]
    }
   ],
   "source": [
    "ergebnis_football = []\n",
    "\n",
    "for i in subjects:\n",
    "    if str(subjects[i]).__contains__(\"Football\"):\n",
    "        ergebnis_computer_programming.append(i)\n",
    "print(len(ergebnis_computer_programming))"
   ]
  },
  {
   "cell_type": "markdown",
   "metadata": {},
   "source": [
    "Zwei der 1000 betrachteten Datensätze enthalten das Thema \"Football\" innerhalb der Kategorie subjects. Die zu Beginn formulierte Fragestellung ist somit beantwortet. Im Folgenden soll noch eine Funktion implementiert werden, an die ein beliebiger String übergeben werden kann und die dann überprüft in wie vielen der hier betrachteten Datensätze dieser String enthalten ist. "
   ]
  },
  {
   "cell_type": "markdown",
   "metadata": {},
   "source": [
    "### Implementieren der Funktion"
   ]
  },
  {
   "cell_type": "code",
   "execution_count": 28,
   "metadata": {},
   "outputs": [],
   "source": [
    "def how_many_books_concerning(subject):\n",
    "    print (\"Diese Funktion gibt aus wie viele physische Objekte es zu einem Thema gibt.\")\n",
    "    ergebnis = []\n",
    "    for i in subjects:\n",
    "        if str(subjects[i]).__contains__(subject):\n",
    "            ergebnis.append(i)\n",
    "    print(len(ergebnis))"
   ]
  },
  {
   "cell_type": "code",
   "execution_count": 29,
   "metadata": {},
   "outputs": [
    {
     "name": "stdout",
     "output_type": "stream",
     "text": [
      "Diese Funktion gibt aus wie viele physische Objekte es zu einem Thema gibt.\n",
      "2\n"
     ]
    }
   ],
   "source": [
    "how_many_books_concerning(\"Football\")"
   ]
  },
  {
   "cell_type": "code",
   "execution_count": 35,
   "metadata": {},
   "outputs": [
    {
     "name": "stdout",
     "output_type": "stream",
     "text": [
      "Diese Funktion gibt aus wie viele physische Objekte es zu einem Thema gibt.\n",
      "0\n"
     ]
    }
   ],
   "source": [
    "how_many_books_concerning(\"Computer Programming\")"
   ]
  },
  {
   "cell_type": "code",
   "execution_count": 36,
   "metadata": {},
   "outputs": [
    {
     "name": "stdout",
     "output_type": "stream",
     "text": [
      "Diese Funktion gibt aus wie viele physische Objekte es zu einem Thema gibt.\n",
      "2\n"
     ]
    }
   ],
   "source": [
    "how_many_books_concerning(\"Computer\")"
   ]
  },
  {
   "cell_type": "code",
   "execution_count": 38,
   "metadata": {},
   "outputs": [
    {
     "name": "stdout",
     "output_type": "stream",
     "text": [
      "Diese Funktion gibt aus wie viele physische Objekte es zu einem Thema gibt.\n",
      "27\n"
     ]
    }
   ],
   "source": [
    "how_many_books_concerning(\"Rock music\")"
   ]
  },
  {
   "cell_type": "markdown",
   "metadata": {},
   "source": [
    "Nun kann für jedes beliebige Thema ausgegeben werden, wie viele physische Medien die Seattle Public Library zu diesem Thema besitzt (hier leider nur beispielhaft für den verwendenten Datensatz mit 1000 Zeilen). "
   ]
  },
  {
   "cell_type": "markdown",
   "metadata": {},
   "source": [
    "## Fragestellung 3\n",
    "#### Aus welchem Jahr stammen die meisten der vorhandenen physischen Objekte?\n",
    "Im Folgenden  soll untersucht werden, wie viele Objekte in welchem Jahr erschienen sind und aus welchem Erscheinungsjahr die meisten Objekte vorhanden sind. Dazu soll ein Histogramm der Erscheinungsjahre (\"publicationyear\") erstellt werden. Hierbei ist zu berücksichtigen, dass die Fragestellung nicht eindeutig beantwortet werden kann, da nur 1000 der insgesamt 66,2 Millionen Zeilen betrachtet werden. Es kann aber eine Idee über die Verteilung der Erscheinungsjahre gewonnen werden. "
   ]
  },
  {
   "cell_type": "code",
   "execution_count": 39,
   "metadata": {},
   "outputs": [
    {
     "data": {
      "text/plain": [
       "0         NaN\n",
       "1         NaN\n",
       "2       2011.\n",
       "3      p2013.\n",
       "4       2016.\n",
       "        ...  \n",
       "995     2001.\n",
       "996     2016.\n",
       "997     2014.\n",
       "998     2013.\n",
       "999    [2015]\n",
       "Name: publicationyear, Length: 1000, dtype: object"
      ]
     },
     "execution_count": 39,
     "metadata": {},
     "output_type": "execute_result"
    }
   ],
   "source": [
    "spl[\"publicationyear\"]"
   ]
  },
  {
   "cell_type": "markdown",
   "metadata": {},
   "source": [
    "Es fällt auf, dass es schwierig wird, die Daten zu visualisieren, da die Erscheinungsjahre als \"Plain Text\" abgelegt sind. Für einige Objekte ist kein Erscheinungsjahr vorhanden (NaN), es steht ein Buchstabe davor (p2013.) oder das Erscheinungsjahr ist geklammert ([2015])."
   ]
  },
  {
   "cell_type": "code",
   "execution_count": 40,
   "metadata": {},
   "outputs": [
    {
     "data": {
      "text/plain": [
       "count        974\n",
       "unique       245\n",
       "top       [2016]\n",
       "freq          54\n",
       "Name: publicationyear, dtype: object"
      ]
     },
     "execution_count": 40,
     "metadata": {},
     "output_type": "execute_result"
    }
   ],
   "source": [
    "spl.publicationyear.describe()"
   ]
  },
  {
   "cell_type": "markdown",
   "metadata": {},
   "source": [
    "Eine Beschreibung des Datensets ergibt, dass für 974 der 1000 Objekte ein Erscheinungsjahr hinterlegt ist. Insgesamt stammen die Objekte aus 245 verschiedenen Erscheinungsjahren.\n",
    "Um eine Antwort auf die Fragestellung zu finden, müssen die Daten als integer und nicht als PlainText vorliegen."
   ]
  },
  {
   "cell_type": "markdown",
   "metadata": {},
   "source": [
    "## Fragestellung 4\n",
    "#### Wie viele Exemplare gibt es durchschnittlich von einem Medium?"
   ]
  },
  {
   "cell_type": "markdown",
   "metadata": {},
   "source": [
    "Um diese Frage zu beantworten, ist die Spalte ItemCount relevant, in welcher die Anzahl der Objekte in der jeweiligen Sammlung oder Kollektion angegeben ist. "
   ]
  },
  {
   "cell_type": "code",
   "execution_count": 41,
   "metadata": {},
   "outputs": [
    {
     "data": {
      "text/plain": [
       "count    1000.000000\n",
       "mean        1.221000\n",
       "std         2.269209\n",
       "min         1.000000\n",
       "25%         1.000000\n",
       "50%         1.000000\n",
       "75%         1.000000\n",
       "max        71.000000\n",
       "Name: itemcount, dtype: float64"
      ]
     },
     "execution_count": 41,
     "metadata": {},
     "output_type": "execute_result"
    }
   ],
   "source": [
    "spl.itemcount.describe()"
   ]
  },
  {
   "cell_type": "markdown",
   "metadata": {},
   "source": [
    "Die 1000 betrachteten Objekte sind im Durchschnitt (arithmetisches Mittel) 1,22-Mal vorhanden. Es gibt einen Ausreißer, welcher 71x vorhanden ist. "
   ]
  },
  {
   "cell_type": "markdown",
   "metadata": {},
   "source": [
    "## Fragestellung 5 + Hinzufügen des Datensets 'Checkout by Title'\n",
    "#### Welches Buch wurde am häufigsten ausgeliehen?"
   ]
  },
  {
   "cell_type": "markdown",
   "metadata": {},
   "source": [
    "Im Folgenden interessiert mich die Fragestellung, welches Buch am häufigsten ausgeliehen worden ist. Um diese Fragestellung beantworten zu können, importiere ich zusätzlich zum Library Collection Inventory Datenset der Seattle Public Library das Checkouts by Title Set der Seattle Public Library."
   ]
  },
  {
   "cell_type": "code",
   "execution_count": 43,
   "metadata": {},
   "outputs": [],
   "source": [
    "# Import des Datensets 'Checkout by Title'\n",
    "url_title = \"https://data.seattle.gov/resource/tmmm-ytt6.csv\"\n",
    "spl_title = pd.read_csv(url_title)"
   ]
  },
  {
   "cell_type": "code",
   "execution_count": 44,
   "metadata": {},
   "outputs": [
    {
     "data": {
      "text/html": [
       "<div>\n",
       "<style scoped>\n",
       "    .dataframe tbody tr th:only-of-type {\n",
       "        vertical-align: middle;\n",
       "    }\n",
       "\n",
       "    .dataframe tbody tr th {\n",
       "        vertical-align: top;\n",
       "    }\n",
       "\n",
       "    .dataframe thead th {\n",
       "        text-align: right;\n",
       "    }\n",
       "</style>\n",
       "<table border=\"1\" class=\"dataframe\">\n",
       "  <thead>\n",
       "    <tr style=\"text-align: right;\">\n",
       "      <th></th>\n",
       "      <th>usageclass</th>\n",
       "      <th>checkouttype</th>\n",
       "      <th>materialtype</th>\n",
       "      <th>checkoutyear</th>\n",
       "      <th>checkoutmonth</th>\n",
       "      <th>checkouts</th>\n",
       "      <th>title</th>\n",
       "      <th>creator</th>\n",
       "      <th>subjects</th>\n",
       "      <th>publisher</th>\n",
       "      <th>publicationyear</th>\n",
       "    </tr>\n",
       "  </thead>\n",
       "  <tbody>\n",
       "    <tr>\n",
       "      <th>0</th>\n",
       "      <td>Physical</td>\n",
       "      <td>Horizon</td>\n",
       "      <td>BOOK</td>\n",
       "      <td>2012</td>\n",
       "      <td>5</td>\n",
       "      <td>2</td>\n",
       "      <td>The ballad of Grégoire Darcy : Jane Austen's P...</td>\n",
       "      <td>Altman, Marsha</td>\n",
       "      <td>Darcy Fitzwilliam Fictitious character Fiction...</td>\n",
       "      <td>Ulysses Press : Distributed by Publishers Grou...</td>\n",
       "      <td>c2011.</td>\n",
       "    </tr>\n",
       "    <tr>\n",
       "      <th>1</th>\n",
       "      <td>Physical</td>\n",
       "      <td>Horizon</td>\n",
       "      <td>SOUNDDISC</td>\n",
       "      <td>2012</td>\n",
       "      <td>5</td>\n",
       "      <td>1</td>\n",
       "      <td>Bicentenario, 1810/1910/2010 [sound recording]...</td>\n",
       "      <td>Aguilar, Pepe</td>\n",
       "      <td>Popular music Mexico 2001 2010, Songs Spanish ...</td>\n",
       "      <td>Vene/Universal Music Latino,</td>\n",
       "      <td>p2010.</td>\n",
       "    </tr>\n",
       "    <tr>\n",
       "      <th>2</th>\n",
       "      <td>Physical</td>\n",
       "      <td>Horizon</td>\n",
       "      <td>VIDEODISC</td>\n",
       "      <td>2012</td>\n",
       "      <td>5</td>\n",
       "      <td>2</td>\n",
       "      <td>Thomas Jefferson</td>\n",
       "      <td>NaN</td>\n",
       "      <td>Jefferson Thomas 1743 1826, Presidents United ...</td>\n",
       "      <td>NaN</td>\n",
       "      <td>NaN</td>\n",
       "    </tr>\n",
       "    <tr>\n",
       "      <th>3</th>\n",
       "      <td>Physical</td>\n",
       "      <td>Horizon</td>\n",
       "      <td>BOOK</td>\n",
       "      <td>2012</td>\n",
       "      <td>5</td>\n",
       "      <td>1</td>\n",
       "      <td>Clifford the big red dog the big leaf pile</td>\n",
       "      <td>NaN</td>\n",
       "      <td>Dogs Fiction, Leaves Fiction</td>\n",
       "      <td>NaN</td>\n",
       "      <td>NaN</td>\n",
       "    </tr>\n",
       "    <tr>\n",
       "      <th>4</th>\n",
       "      <td>Physical</td>\n",
       "      <td>Horizon</td>\n",
       "      <td>BOOK</td>\n",
       "      <td>2012</td>\n",
       "      <td>5</td>\n",
       "      <td>15</td>\n",
       "      <td>My book about me, by me myself. I wrote it! I ...</td>\n",
       "      <td>Seuss, Dr.</td>\n",
       "      <td>Childrens questions and answers</td>\n",
       "      <td>Beginner Books</td>\n",
       "      <td>[1969]</td>\n",
       "    </tr>\n",
       "    <tr>\n",
       "      <th>...</th>\n",
       "      <td>...</td>\n",
       "      <td>...</td>\n",
       "      <td>...</td>\n",
       "      <td>...</td>\n",
       "      <td>...</td>\n",
       "      <td>...</td>\n",
       "      <td>...</td>\n",
       "      <td>...</td>\n",
       "      <td>...</td>\n",
       "      <td>...</td>\n",
       "      <td>...</td>\n",
       "    </tr>\n",
       "    <tr>\n",
       "      <th>995</th>\n",
       "      <td>Physical</td>\n",
       "      <td>Horizon</td>\n",
       "      <td>BOOK</td>\n",
       "      <td>2012</td>\n",
       "      <td>5</td>\n",
       "      <td>5</td>\n",
       "      <td>Angeltown : the Nate Hollis investigations / [...</td>\n",
       "      <td>Phillips, Gary, 1955-</td>\n",
       "      <td>Private investigators Comic books strips etc, ...</td>\n",
       "      <td>Moonstone Entertainment,</td>\n",
       "      <td>c2011.</td>\n",
       "    </tr>\n",
       "    <tr>\n",
       "      <th>996</th>\n",
       "      <td>Physical</td>\n",
       "      <td>Horizon</td>\n",
       "      <td>BOOK</td>\n",
       "      <td>2012</td>\n",
       "      <td>5</td>\n",
       "      <td>3</td>\n",
       "      <td>Day of the oprichnik / Vladimir Sorokin ; tran...</td>\n",
       "      <td>Sorokin, Vladimir, 1955-</td>\n",
       "      <td>Black humor Literature</td>\n",
       "      <td>Farrar, Straus and Giroux,</td>\n",
       "      <td>2011.</td>\n",
       "    </tr>\n",
       "    <tr>\n",
       "      <th>997</th>\n",
       "      <td>Physical</td>\n",
       "      <td>Horizon</td>\n",
       "      <td>BOOK</td>\n",
       "      <td>2012</td>\n",
       "      <td>5</td>\n",
       "      <td>3</td>\n",
       "      <td>How we age : a doctor's journey into the heart...</td>\n",
       "      <td>Agronin, Marc E.</td>\n",
       "      <td>Older people, Nursing home patients Florida Mi...</td>\n",
       "      <td>Da Capo Press,</td>\n",
       "      <td>c2011.</td>\n",
       "    </tr>\n",
       "    <tr>\n",
       "      <th>998</th>\n",
       "      <td>Digital</td>\n",
       "      <td>Freegal</td>\n",
       "      <td>SONG</td>\n",
       "      <td>2012</td>\n",
       "      <td>5</td>\n",
       "      <td>1</td>\n",
       "      <td>Yank Me Crank Me</td>\n",
       "      <td>Ted Nugent</td>\n",
       "      <td>NaN</td>\n",
       "      <td>NaN</td>\n",
       "      <td>NaN</td>\n",
       "    </tr>\n",
       "    <tr>\n",
       "      <th>999</th>\n",
       "      <td>Digital</td>\n",
       "      <td>OverDrive</td>\n",
       "      <td>AUDIOBOOK</td>\n",
       "      <td>2012</td>\n",
       "      <td>5</td>\n",
       "      <td>2</td>\n",
       "      <td>Assassin: Alexander Hawke Series, Book 2 (unab...</td>\n",
       "      <td>Ted Bell</td>\n",
       "      <td>Fiction, Thriller</td>\n",
       "      <td>Brilliance Audio, Inc.</td>\n",
       "      <td>2006</td>\n",
       "    </tr>\n",
       "  </tbody>\n",
       "</table>\n",
       "<p>1000 rows × 11 columns</p>\n",
       "</div>"
      ],
      "text/plain": [
       "    usageclass checkouttype materialtype  checkoutyear  checkoutmonth  \\\n",
       "0     Physical      Horizon         BOOK          2012              5   \n",
       "1     Physical      Horizon    SOUNDDISC          2012              5   \n",
       "2     Physical      Horizon    VIDEODISC          2012              5   \n",
       "3     Physical      Horizon         BOOK          2012              5   \n",
       "4     Physical      Horizon         BOOK          2012              5   \n",
       "..         ...          ...          ...           ...            ...   \n",
       "995   Physical      Horizon         BOOK          2012              5   \n",
       "996   Physical      Horizon         BOOK          2012              5   \n",
       "997   Physical      Horizon         BOOK          2012              5   \n",
       "998    Digital      Freegal         SONG          2012              5   \n",
       "999    Digital    OverDrive    AUDIOBOOK          2012              5   \n",
       "\n",
       "     checkouts                                              title  \\\n",
       "0            2  The ballad of Grégoire Darcy : Jane Austen's P...   \n",
       "1            1  Bicentenario, 1810/1910/2010 [sound recording]...   \n",
       "2            2                                   Thomas Jefferson   \n",
       "3            1         Clifford the big red dog the big leaf pile   \n",
       "4           15  My book about me, by me myself. I wrote it! I ...   \n",
       "..         ...                                                ...   \n",
       "995          5  Angeltown : the Nate Hollis investigations / [...   \n",
       "996          3  Day of the oprichnik / Vladimir Sorokin ; tran...   \n",
       "997          3  How we age : a doctor's journey into the heart...   \n",
       "998          1                                   Yank Me Crank Me   \n",
       "999          2  Assassin: Alexander Hawke Series, Book 2 (unab...   \n",
       "\n",
       "                      creator  \\\n",
       "0              Altman, Marsha   \n",
       "1               Aguilar, Pepe   \n",
       "2                         NaN   \n",
       "3                         NaN   \n",
       "4                  Seuss, Dr.   \n",
       "..                        ...   \n",
       "995     Phillips, Gary, 1955-   \n",
       "996  Sorokin, Vladimir, 1955-   \n",
       "997          Agronin, Marc E.   \n",
       "998                Ted Nugent   \n",
       "999                  Ted Bell   \n",
       "\n",
       "                                              subjects  \\\n",
       "0    Darcy Fitzwilliam Fictitious character Fiction...   \n",
       "1    Popular music Mexico 2001 2010, Songs Spanish ...   \n",
       "2    Jefferson Thomas 1743 1826, Presidents United ...   \n",
       "3                         Dogs Fiction, Leaves Fiction   \n",
       "4                      Childrens questions and answers   \n",
       "..                                                 ...   \n",
       "995  Private investigators Comic books strips etc, ...   \n",
       "996                             Black humor Literature   \n",
       "997  Older people, Nursing home patients Florida Mi...   \n",
       "998                                                NaN   \n",
       "999                                  Fiction, Thriller   \n",
       "\n",
       "                                             publisher publicationyear  \n",
       "0    Ulysses Press : Distributed by Publishers Grou...          c2011.  \n",
       "1                         Vene/Universal Music Latino,          p2010.  \n",
       "2                                                  NaN             NaN  \n",
       "3                                                  NaN             NaN  \n",
       "4                                       Beginner Books          [1969]  \n",
       "..                                                 ...             ...  \n",
       "995                           Moonstone Entertainment,          c2011.  \n",
       "996                         Farrar, Straus and Giroux,           2011.  \n",
       "997                                     Da Capo Press,          c2011.  \n",
       "998                                                NaN             NaN  \n",
       "999                             Brilliance Audio, Inc.            2006  \n",
       "\n",
       "[1000 rows x 11 columns]"
      ]
     },
     "execution_count": 44,
     "metadata": {},
     "output_type": "execute_result"
    }
   ],
   "source": [
    "spl_title"
   ]
  },
  {
   "cell_type": "markdown",
   "metadata": {},
   "source": [
    "Für die folgende Analyse muss beachtet werden, dass die Auswertung nur für die hier vorliegende Stichprobe von 1000 Objekten zutreffend ist. "
   ]
  },
  {
   "cell_type": "code",
   "execution_count": 45,
   "metadata": {},
   "outputs": [
    {
     "data": {
      "text/plain": [
       "count    1000.000000\n",
       "mean        3.403000\n",
       "std         7.316155\n",
       "min         1.000000\n",
       "25%         1.000000\n",
       "50%         2.000000\n",
       "75%         3.000000\n",
       "max       181.000000\n",
       "Name: checkouts, dtype: float64"
      ]
     },
     "execution_count": 45,
     "metadata": {},
     "output_type": "execute_result"
    }
   ],
   "source": [
    "spl_title.checkouts.describe()"
   ]
  },
  {
   "cell_type": "code",
   "execution_count": 49,
   "metadata": {},
   "outputs": [
    {
     "data": {
      "text/plain": [
       "<AxesSubplot:>"
      ]
     },
     "execution_count": 49,
     "metadata": {},
     "output_type": "execute_result"
    },
    {
     "data": {
      "image/png": "[encoded data removed]",
      "text/plain": [
       "<Figure size 432x288 with 1 Axes>"
      ]
     },
     "metadata": {
      "needs_background": "light"
     },
     "output_type": "display_data"
    }
   ],
   "source": [
    "spl_title.checkouts.hist(bins=100)"
   ]
  },
  {
   "cell_type": "markdown",
   "metadata": {},
   "source": [
    "Innerhalb der 1000 hier betrachteten Objekte wurde ein Medium im Durchschnitt 3,4-Mal ausgeliehen. Der Median beträgt 2. Das häufigste Medium wurde 181-Mal ausgeliehen. \n",
    "Anhand des erzeugten Histogramms lässt sich erkennen, der Großteil der Medien (über 600) nur einmal ausgeliehen worden sind. Das Medium, welches 181-Mal ausgeliehen worden ist, stellt einen absoluten Ausreißer dar. \n",
    "Im Folgenden soll herausgefunden werden, wie der Titel dieses Mediums lautet."
   ]
  },
  {
   "cell_type": "code",
   "execution_count": 50,
   "metadata": {},
   "outputs": [
    {
     "data": {
      "text/plain": [
       "pandas.core.series.Series"
      ]
     },
     "execution_count": 50,
     "metadata": {},
     "output_type": "execute_result"
    }
   ],
   "source": [
    "type(spl_title.checkouts)"
   ]
  },
  {
   "cell_type": "markdown",
   "metadata": {},
   "source": [
    "Um mit der Spalte Checkouts arbeiten zu können, muss diese zunächst in ein Dictionary umgewandelt werden. "
   ]
  },
  {
   "cell_type": "code",
   "execution_count": 51,
   "metadata": {},
   "outputs": [],
   "source": [
    "checkouts = dict(spl_title.checkouts)"
   ]
  },
  {
   "cell_type": "code",
   "execution_count": 53,
   "metadata": {},
   "outputs": [
    {
     "name": "stdout",
     "output_type": "stream",
     "text": [
      "Hanna [videorecording] / Focus Features ; produced by Leslie Holleran, Marty Adelstein, Scott Nemes ; screenplay by Seth Lochhead and David Farr ; story by Seth Lochhead ; directed by Joe Wright.\n"
     ]
    }
   ],
   "source": [
    "for i in checkouts:\n",
    "    if str(checkouts[i]).__contains__(\"181\"):\n",
    "        print(spl_title.title[i])"
   ]
  },
  {
   "cell_type": "markdown",
   "metadata": {},
   "source": [
    "Der Titel des Buches, welches am häufigsten ausgliehen worden ist, lautet: \"Hanna [videorecording] / Focus Features ; produced by Leslie Holleran, Marty Adelstein, Scott Nemes ; screenplay by Seth Lochhead and David Farr ; story by Seth Lochhead ; directed by Joe Wright.\""
   ]
  },
  {
   "cell_type": "markdown",
   "metadata": {},
   "source": [
    "# Diskussion"
   ]
  },
  {
   "cell_type": "markdown",
   "metadata": {},
   "source": [
    "Dadurch, dass der Großteil der Daten im PlainText Format vorliegt, war es recht schwierig mit den Daten zu arbeiten. Visualisierungen im Hinblick auf die Erscheinungsjahre wäre möglich gewesen, wenn die Erscheinungsjahre im Datentyp Integer vorgelegen hätten. "
   ]
  }
 ],
 "metadata": {
  "kernelspec": {
   "display_name": "Python 3",
   "language": "python",
   "name": "python3"
  },
  "language_info": {
   "codemirror_mode": {
    "name": "ipython",
    "version": 3
   },
   "file_extension": ".py",
   "mimetype": "text/x-python",
   "name": "python",
   "nbconvert_exporter": "python",
   "pygments_lexer": "ipython3",
   "version": "3.8.5"
  }
 },
 "nbformat": 4,
 "nbformat_minor": 4
}
