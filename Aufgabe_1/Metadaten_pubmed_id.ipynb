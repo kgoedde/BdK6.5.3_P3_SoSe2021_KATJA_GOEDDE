{
 "cells": [
  {
   "cell_type": "code",
   "execution_count": 43,
   "metadata": {},
   "outputs": [],
   "source": [
    "# Import\n",
    "import urllib.request\n",
    "import json"
   ]
  },
  {
   "cell_type": "code",
   "execution_count": 44,
   "metadata": {},
   "outputs": [],
   "source": [
    "# Festlegen der URL\n",
    "base_url = \"https://eutils.ncbi.nlm.nih.gov/entrez/eutils/esummary.fcgi?db=pubmed&retmode=json&id=\"\n",
    "pmid = \"27708327\"\n",
    "full_url = base_url + pmid"
   ]
  },
  {
   "cell_type": "code",
   "execution_count": 45,
   "metadata": {},
   "outputs": [],
   "source": [
    "pm_json_data = urllib.request.urlopen(full_url).read()"
   ]
  },
  {
   "cell_type": "code",
   "execution_count": 46,
   "metadata": {},
   "outputs": [
    {
     "name": "stdout",
     "output_type": "stream",
     "text": [
      "b'{\"header\":{\"type\":\"esummary\",\"version\":\"0.3\"},\"result\":{\"uids\":[\"27708327\"],\"27708327\":{\"uid\":\"27708327\",\"pubdate\":\"2016 Oct 6\",\"epubdate\":\"\",\"source\":\"Nature\",\"authors\":[{\"name\":\"Perkel J\",\"authtype\":\"Author\",\"clusterid\":\"\"}],\"lastauthor\":\"Perkel J\",\"title\":\"Democratic databases: science on GitHub.\",\"sorttitle\":\"democratic databases science on github\",\"volume\":\"538\",\"issue\":\"7623\",\"pages\":\"127-128\",\"lang\":[\"eng\"],\"nlmuniqueid\":\"0410462\",\"issn\":\"0028-0836\",\"essn\":\"1476-4687\",\"pubtype\":[\"Journal Article\"],\"recordstatus\":\"PubMed - indexed for MEDLINE\",\"pubstatus\":\"4\",\"articleids\":[{\"idtype\":\"pubmed\",\"idtypen\":1,\"value\":\"27708327\"},{\"idtype\":\"pii\",\"idtypen\":4,\"value\":\"538127a\"},{\"idtype\":\"doi\",\"idtypen\":3,\"value\":\"10.1038/538127a\"},{\"idtype\":\"rid\",\"idtypen\":8,\"value\":\"27708327\"},{\"idtype\":\"eid\",\"idtypen\":8,\"value\":\"27708327\"}],\"history\":[{\"pubstatus\":\"entrez\",\"date\":\"2016/10/07 06:00\"},{\"pubstatus\":\"pubmed\",\"date\":\"2016/10/07 06:00\"},{\"pubstatus\":\"medline\",\"date\":\"2016/11/03 06:00\"}],\"references\":[{\"refsource\":\"Nature. 2016 Oct 31;539(7627):126\",\"reftype\":\"Erratum in\",\"pmid\":27808210,\"note\":\"\"}],\"attributes\":[],\"pmcrefcount\":11,\"fulljournalname\":\"Nature\",\"elocationid\":\"doi: 10.1038/538127a\",\"doctype\":\"citation\",\"srccontriblist\":[],\"booktitle\":\"\",\"medium\":\"\",\"edition\":\"\",\"publisherlocation\":\"\",\"publishername\":\"\",\"srcdate\":\"\",\"reportnumber\":\"\",\"availablefromurl\":\"\",\"locationlabel\":\"\",\"doccontriblist\":[],\"docdate\":\"\",\"bookname\":\"\",\"chapter\":\"\",\"sortpubdate\":\"2016/10/06 00:00\",\"sortfirstauthor\":\"Perkel J\",\"vernaculartitle\":\"\"}}}\\n'\n"
     ]
    }
   ],
   "source": [
    "print(pm_json_data)"
   ]
  },
  {
   "cell_type": "code",
   "execution_count": 47,
   "metadata": {},
   "outputs": [
    {
     "data": {
      "text/plain": [
       "bytes"
      ]
     },
     "execution_count": 47,
     "metadata": {},
     "output_type": "execute_result"
    }
   ],
   "source": [
    "type(pm_json_data)"
   ]
  },
  {
   "cell_type": "code",
   "execution_count": 48,
   "metadata": {},
   "outputs": [],
   "source": [
    "# Umwandeln in ein Dictionary. \n",
    "pm_data = json.loads(pm_json_data)"
   ]
  },
  {
   "cell_type": "code",
   "execution_count": 49,
   "metadata": {},
   "outputs": [
    {
     "data": {
      "text/plain": [
       "dict"
      ]
     },
     "execution_count": 49,
     "metadata": {},
     "output_type": "execute_result"
    }
   ],
   "source": [
    "# Überprüfung, ob die Umwandlung geklappt hat. \n",
    "type(pm_data)"
   ]
  },
  {
   "cell_type": "code",
   "execution_count": 50,
   "metadata": {},
   "outputs": [
    {
     "name": "stdout",
     "output_type": "stream",
     "text": [
      "{'header': {'type': 'esummary', 'version': '0.3'}, 'result': {'uids': ['27708327'], '27708327': {'uid': '27708327', 'pubdate': '2016 Oct 6', 'epubdate': '', 'source': 'Nature', 'authors': [{'name': 'Perkel J', 'authtype': 'Author', 'clusterid': ''}], 'lastauthor': 'Perkel J', 'title': 'Democratic databases: science on GitHub.', 'sorttitle': 'democratic databases science on github', 'volume': '538', 'issue': '7623', 'pages': '127-128', 'lang': ['eng'], 'nlmuniqueid': '0410462', 'issn': '0028-0836', 'essn': '1476-4687', 'pubtype': ['Journal Article'], 'recordstatus': 'PubMed - indexed for MEDLINE', 'pubstatus': '4', 'articleids': [{'idtype': 'pubmed', 'idtypen': 1, 'value': '27708327'}, {'idtype': 'pii', 'idtypen': 4, 'value': '538127a'}, {'idtype': 'doi', 'idtypen': 3, 'value': '10.1038/538127a'}, {'idtype': 'rid', 'idtypen': 8, 'value': '27708327'}, {'idtype': 'eid', 'idtypen': 8, 'value': '27708327'}], 'history': [{'pubstatus': 'entrez', 'date': '2016/10/07 06:00'}, {'pubstatus': 'pubmed', 'date': '2016/10/07 06:00'}, {'pubstatus': 'medline', 'date': '2016/11/03 06:00'}], 'references': [{'refsource': 'Nature. 2016 Oct 31;539(7627):126', 'reftype': 'Erratum in', 'pmid': 27808210, 'note': ''}], 'attributes': [], 'pmcrefcount': 11, 'fulljournalname': 'Nature', 'elocationid': 'doi: 10.1038/538127a', 'doctype': 'citation', 'srccontriblist': [], 'booktitle': '', 'medium': '', 'edition': '', 'publisherlocation': '', 'publishername': '', 'srcdate': '', 'reportnumber': '', 'availablefromurl': '', 'locationlabel': '', 'doccontriblist': [], 'docdate': '', 'bookname': '', 'chapter': '', 'sortpubdate': '2016/10/06 00:00', 'sortfirstauthor': 'Perkel J', 'vernaculartitle': ''}}}\n"
     ]
    }
   ],
   "source": [
    "print(pm_data)"
   ]
  },
  {
   "cell_type": "code",
   "execution_count": 51,
   "metadata": {},
   "outputs": [
    {
     "data": {
      "text/plain": [
       "dict_keys(['header', 'result'])"
      ]
     },
     "execution_count": 51,
     "metadata": {},
     "output_type": "execute_result"
    }
   ],
   "source": [
    "# Ausgabe der Keys. \n",
    "pm_data.keys()"
   ]
  },
  {
   "cell_type": "code",
   "execution_count": 52,
   "metadata": {},
   "outputs": [
    {
     "data": {
      "text/plain": [
       "{'type': 'esummary', 'version': '0.3'}"
      ]
     },
     "execution_count": 52,
     "metadata": {},
     "output_type": "execute_result"
    }
   ],
   "source": [
    "pm_data[\"header\"]"
   ]
  },
  {
   "cell_type": "code",
   "execution_count": 53,
   "metadata": {},
   "outputs": [
    {
     "data": {
      "text/plain": [
       "{'uids': ['27708327'],\n",
       " '27708327': {'uid': '27708327',\n",
       "  'pubdate': '2016 Oct 6',\n",
       "  'epubdate': '',\n",
       "  'source': 'Nature',\n",
       "  'authors': [{'name': 'Perkel J', 'authtype': 'Author', 'clusterid': ''}],\n",
       "  'lastauthor': 'Perkel J',\n",
       "  'title': 'Democratic databases: science on GitHub.',\n",
       "  'sorttitle': 'democratic databases science on github',\n",
       "  'volume': '538',\n",
       "  'issue': '7623',\n",
       "  'pages': '127-128',\n",
       "  'lang': ['eng'],\n",
       "  'nlmuniqueid': '0410462',\n",
       "  'issn': '0028-0836',\n",
       "  'essn': '1476-4687',\n",
       "  'pubtype': ['Journal Article'],\n",
       "  'recordstatus': 'PubMed - indexed for MEDLINE',\n",
       "  'pubstatus': '4',\n",
       "  'articleids': [{'idtype': 'pubmed', 'idtypen': 1, 'value': '27708327'},\n",
       "   {'idtype': 'pii', 'idtypen': 4, 'value': '538127a'},\n",
       "   {'idtype': 'doi', 'idtypen': 3, 'value': '10.1038/538127a'},\n",
       "   {'idtype': 'rid', 'idtypen': 8, 'value': '27708327'},\n",
       "   {'idtype': 'eid', 'idtypen': 8, 'value': '27708327'}],\n",
       "  'history': [{'pubstatus': 'entrez', 'date': '2016/10/07 06:00'},\n",
       "   {'pubstatus': 'pubmed', 'date': '2016/10/07 06:00'},\n",
       "   {'pubstatus': 'medline', 'date': '2016/11/03 06:00'}],\n",
       "  'references': [{'refsource': 'Nature. 2016 Oct 31;539(7627):126',\n",
       "    'reftype': 'Erratum in',\n",
       "    'pmid': 27808210,\n",
       "    'note': ''}],\n",
       "  'attributes': [],\n",
       "  'pmcrefcount': 11,\n",
       "  'fulljournalname': 'Nature',\n",
       "  'elocationid': 'doi: 10.1038/538127a',\n",
       "  'doctype': 'citation',\n",
       "  'srccontriblist': [],\n",
       "  'booktitle': '',\n",
       "  'medium': '',\n",
       "  'edition': '',\n",
       "  'publisherlocation': '',\n",
       "  'publishername': '',\n",
       "  'srcdate': '',\n",
       "  'reportnumber': '',\n",
       "  'availablefromurl': '',\n",
       "  'locationlabel': '',\n",
       "  'doccontriblist': [],\n",
       "  'docdate': '',\n",
       "  'bookname': '',\n",
       "  'chapter': '',\n",
       "  'sortpubdate': '2016/10/06 00:00',\n",
       "  'sortfirstauthor': 'Perkel J',\n",
       "  'vernaculartitle': ''}}"
      ]
     },
     "execution_count": 53,
     "metadata": {},
     "output_type": "execute_result"
    }
   ],
   "source": [
    "pm_data[\"result\"]"
   ]
  },
  {
   "cell_type": "code",
   "execution_count": 54,
   "metadata": {},
   "outputs": [
    {
     "data": {
      "text/plain": [
       "'Democratic databases: science on GitHub.'"
      ]
     },
     "execution_count": 54,
     "metadata": {},
     "output_type": "execute_result"
    }
   ],
   "source": [
    "# Ausgabe des Titels für die ID \"27708327\". \n",
    "pm_data[\"result\"][\"27708327\"][\"title\"]"
   ]
  },
  {
   "cell_type": "code",
   "execution_count": 55,
   "metadata": {},
   "outputs": [
    {
     "data": {
      "text/plain": [
       "'2016 Oct 6'"
      ]
     },
     "execution_count": 55,
     "metadata": {},
     "output_type": "execute_result"
    }
   ],
   "source": [
    "# Ausgabe des Publikationsjahrs für die ID \"27708327\".\n",
    "pm_data[\"result\"][\"27708327\"][\"pubdate\"]"
   ]
  },
  {
   "cell_type": "code",
   "execution_count": 56,
   "metadata": {},
   "outputs": [],
   "source": [
    "# Liste der PMIDs erstellen. \n",
    "pmids = [\"27708327\",\n",
    "         \"31452104\",\n",
    "         \"31437182\",\n",
    "         \"31455877\",\n",
    "         \"31535994\"]"
   ]
  },
  {
   "cell_type": "code",
   "execution_count": 57,
   "metadata": {},
   "outputs": [
    {
     "name": "stdout",
     "output_type": "stream",
     "text": [
      "Democratic databases: science on GitHub.2016 Oct 6\n",
      "Molegro Virtual Docker for Docking.2019\n",
      "TreeCluster: Clustering biological sequences using phylogenetic trees.2019\n",
      "Principles of open source bioinstrumentation applied to the poseidon syringe pump system.2019 Aug 27\n",
      "Aggregation Signature for Small Object Tracking.2019 Sep 16\n"
     ]
    }
   ],
   "source": [
    "# Ausgabe der Titel- und Publikationsdaten mithilfe einer For-Schleife. \n",
    "for pmid in pmids:\n",
    "    full_url = base_url + pmid\n",
    "    pm_json_data = urllib.request.urlopen(full_url).read()\n",
    "    pm_data = json.loads(pm_json_data)\n",
    "    title = pm_data[\"result\"][pmid][\"title\"]\n",
    "    pubdate = pm_data[\"result\"][pmid][\"pubdate\"]\n",
    "    print(title + pubdate)"
   ]
  },
  {
   "cell_type": "code",
   "execution_count": 58,
   "metadata": {},
   "outputs": [
    {
     "name": "stdout",
     "output_type": "stream",
     "text": [
      "Democratic databases: science on GitHub. published 2016 Oct 6.\n",
      "Molegro Virtual Docker for Docking. published 2019.\n",
      "TreeCluster: Clustering biological sequences using phylogenetic trees. published 2019.\n",
      "Principles of open source bioinstrumentation applied to the poseidon syringe pump system. published 2019 Aug 27.\n",
      "Aggregation Signature for Small Object Tracking. published 2019 Sep 16.\n"
     ]
    }
   ],
   "source": [
    "# Hinzufügen von f-Strings.\n",
    "for pmid in pmids:\n",
    "    full_url = base_url + pmid\n",
    "    pm_json_data = urllib.request.urlopen(full_url).read()\n",
    "    pm_data = json.loads(pm_json_data)\n",
    "    title = pm_data[\"result\"][pmid][\"title\"]\n",
    "    pubdate = pm_data[\"result\"][pmid][\"pubdate\"]\n",
    "    print(f\"{title} published {pubdate}.\")"
   ]
  },
  {
   "cell_type": "code",
   "execution_count": 59,
   "metadata": {},
   "outputs": [
    {
     "name": "stdout",
     "output_type": "stream",
     "text": [
      "Democratic databases: science on GitHub. published 2016 Oct 6.\n",
      "-------------------------------\n",
      "Molegro Virtual Docker for Docking. published 2019.\n",
      "-------------------------------\n",
      "TreeCluster: Clustering biological sequences using phylogenetic trees. published 2019.\n",
      "-------------------------------\n",
      "Principles of open source bioinstrumentation applied to the poseidon syringe pump system. published 2019 Aug 27.\n",
      "-------------------------------\n",
      "Aggregation Signature for Small Object Tracking. published 2019 Sep 16.\n",
      "-------------------------------\n"
     ]
    }
   ],
   "source": [
    "# Lynns Verbesserungsvorschlag: Abtrennungszeichen\n",
    "for pmid in pmids:\n",
    "    full_url = base_url + pmid\n",
    "    pm_json_data = urllib.request.urlopen(full_url).read()\n",
    "    pm_data = json.loads(pm_json_data)\n",
    "    title = pm_data[\"result\"][pmid][\"title\"]\n",
    "    pubdate = pm_data[\"result\"][pmid][\"pubdate\"]\n",
    "    print(f\"{title} published {pubdate}.\")\n",
    "    print(\"-------------------------------\")"
   ]
  }
 ],
 "metadata": {
  "kernelspec": {
   "display_name": "Python 3",
   "language": "python",
   "name": "python3"
  },
  "language_info": {
   "codemirror_mode": {
    "name": "ipython",
    "version": 3
   },
   "file_extension": ".py",
   "mimetype": "text/x-python",
   "name": "python",
   "nbconvert_exporter": "python",
   "pygments_lexer": "ipython3",
   "version": "3.8.5"
  }
 },
 "nbformat": 4,
 "nbformat_minor": 4
}
